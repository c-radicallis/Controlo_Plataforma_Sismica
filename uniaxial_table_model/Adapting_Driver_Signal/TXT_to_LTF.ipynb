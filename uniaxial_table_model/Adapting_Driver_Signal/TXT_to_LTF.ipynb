{
 "cells": [
  {
   "cell_type": "code",
   "execution_count": null,
   "id": "c4fe2bd7",
   "metadata": {},
   "outputs": [],
   "source": [
    "import numpy as np\n",
    "from pathlib import Path\n",
    "from scipy.constants import g\n",
    "from utilities import maxabs\n",
    "\n",
    "from LNECSPA import LTFdb"
   ]
  },
  {
   "cell_type": "code",
   "execution_count": null,
   "id": "945aee41",
   "metadata": {},
   "outputs": [
    {
     "ename": "NameError",
     "evalue": "name 'LTFdb' is not defined",
     "output_type": "error",
     "traceback": [
      "\u001b[1;31m---------------------------------------------------------------------------\u001b[0m",
      "\u001b[1;31mNameError\u001b[0m                                 Traceback (most recent call last)",
      "Cell \u001b[1;32mIn[1], line 1\u001b[0m\n\u001b[1;32m----> 1\u001b[0m ltfA \u001b[38;5;241m=\u001b[39m LTFdb()\n\u001b[0;32m      2\u001b[0m ltfA\u001b[38;5;241m.\u001b[39mupdate(AQTD\u001b[38;5;241m=\u001b[39m[\u001b[38;5;124m'\u001b[39m\u001b[38;5;124mAQTD\u001b[39m\u001b[38;5;124m'\u001b[39m],\n\u001b[0;32m      3\u001b[0m             stage\u001b[38;5;241m=\u001b[39m[\u001b[38;5;124m\"\u001b[39m\u001b[38;5;124mL\u001b[39m\u001b[38;5;124m'\u001b[39m\u001b[38;5;124mAQUILA-IT.AVZ.00.HNN.D.IT-2009 seismic record, scale factor 2/2, Cauchy+Froude similitude law\u001b[39m\u001b[38;5;124m\"\u001b[39m],\n\u001b[0;32m      4\u001b[0m             obs\u001b[38;5;241m=\u001b[39m[\u001b[38;5;124m'\u001b[39m\u001b[38;5;124mERIES RE-Safe project\u001b[39m\u001b[38;5;124m'\u001b[39m],\n\u001b[1;32m   (...)\u001b[0m\n\u001b[0;32m     16\u001b[0m             info\u001b[38;5;241m=\u001b[39m[\u001b[38;5;124mf\u001b[39m\u001b[38;5;124m'\u001b[39m\u001b[38;5;124mPGD=\u001b[39m\u001b[38;5;132;01m{\u001b[39;00mmaxabs(SpoA2\u001b[38;5;241m*\u001b[39m\u001b[38;5;241m10.\u001b[39m)\u001b[38;5;132;01m:\u001b[39;00m\u001b[38;5;124m.0f\u001b[39m\u001b[38;5;132;01m}\u001b[39;00m\u001b[38;5;124mmm\u001b[39m\u001b[38;5;124m'\u001b[39m, \u001b[38;5;124mf\u001b[39m\u001b[38;5;124m'\u001b[39m\u001b[38;5;124mPGA=\u001b[39m\u001b[38;5;132;01m{\u001b[39;00mmaxabs(AccA2\u001b[38;5;241m/\u001b[39m\u001b[38;5;241m100.\u001b[39m\u001b[38;5;241m/\u001b[39mconstants\u001b[38;5;241m.\u001b[39mg)\u001b[38;5;132;01m:\u001b[39;00m\u001b[38;5;124m.2f\u001b[39m\u001b[38;5;132;01m}\u001b[39;00m\u001b[38;5;124mg\u001b[39m\u001b[38;5;124m'\u001b[39m],\n\u001b[0;32m     17\u001b[0m             )\n\u001b[0;32m     18\u001b[0m ltfA\u001b[38;5;241m.\u001b[39mwrite(\u001b[38;5;124m'\u001b[39m\u001b[38;5;124mLAquilaReducedScale.ltf\u001b[39m\u001b[38;5;124m'\u001b[39m)\n",
      "\u001b[1;31mNameError\u001b[0m: name 'LTFdb' is not defined"
     ]
    }
   ],
   "source": [
    "ltfA = LTFdb()\n",
    "ltfA.update(AQTD=['AQTD'],\n",
    "            stage=[\"L'AQUILA-IT.AVZ.00.HNN.D.IT-2009 seismic record, scale factor 2/2, Cauchy+Froude similitude law\"],\n",
    "            obs=['ERIES RE-Safe project'],\n",
    "            date=[str(datetime.datetime.now())],\n",
    "            t0=np.repeat(ltfA.t0, 2),\n",
    "            dt=np.repeat(ltfA.dt*0.005, 2),\n",
    "            dataformat=np.repeat(ltfA.dataformat, 2),\n",
    "            IDstring=ltfA.IDstring*2,\n",
    "            scalefactor=np.repeat(ltfA.scalefactor, 2),\n",
    "            offset=np.repeat(ltfA.offset, 2),\n",
    "            data=np.vstack(SpoA2, AccA2),\n",
    "            names=['DispT', 'AccT'],\n",
    "            units=['m', 'm/s^2'],\n",
    "            types=['Displacement', 'Acceleration'],\n",
    "            info=[f'PGD={maxabs(SpoA2):.0f}m', f'PGA={maxabs(AccA2):.2f}m/s^2'],\n",
    "            )\n",
    "ltfA.write('LAquilaReducedScale.ltf')\n"
   ]
  }
 ],
 "metadata": {
  "kernelspec": {
   "display_name": "base",
   "language": "python",
   "name": "python3"
  },
  "language_info": {
   "codemirror_mode": {
    "name": "ipython",
    "version": 3
   },
   "file_extension": ".py",
   "mimetype": "text/x-python",
   "name": "python",
   "nbconvert_exporter": "python",
   "pygments_lexer": "ipython3",
   "version": "3.11.5"
  }
 },
 "nbformat": 4,
 "nbformat_minor": 5
}
