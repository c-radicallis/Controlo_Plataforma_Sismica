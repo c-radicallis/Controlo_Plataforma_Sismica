{
 "cells": [
  {
   "cell_type": "code",
   "execution_count": 30,
   "id": "c4fe2bd7",
   "metadata": {},
   "outputs": [],
   "source": [
    "# Python standard library\n",
    "import os\n",
    "import sys\n",
    "import datetime\n",
    "\n",
    "from pathlib import Path\n",
    "# pxc modules\n",
    "if (ppfolder := str(Path('..') / 'personal_python_packages')) not in sys.path:\n",
    "    sys.path.append(ppfolder)\n",
    "\n",
    "import numpy as np\n",
    "from pathlib import Path\n",
    "from scipy.constants import g\n",
    "from utilities import maxabs\n",
    "\n",
    "from LNECSPA import LTFdb\n",
    "\n",
    "import pandas as pd"
   ]
  },
  {
   "cell_type": "code",
   "execution_count": 31,
   "id": "feb837b0",
   "metadata": {},
   "outputs": [],
   "source": [
    "def txt_to_ltf(file_path , out_dir):\n",
    "    df = pd.read_csv(file_path, delim_whitespace=True)\n",
    "    time = df['time']\n",
    "    PosT = df['PosT']\n",
    "    PosL = df['PosL']\n",
    "    PosV = df['PosV']\n",
    "    accT = df['accT']\n",
    "    accL = df['accL']\n",
    "    accV = df['accV']\n",
    "    number_columns = len(df.columns)\n",
    "\n",
    "    ltfA = LTFdb()\n",
    "    ltfA.update(#AQTD=['AQTD'],\n",
    "                #date=[str(datetime.datetime.now())],\n",
    "                t0=np.repeat(time[0], number_columns),\n",
    "                dt=np.repeat(time[1], number_columns),\n",
    "                dataformat=np.repeat(ltfA.dataformat, number_columns),\n",
    "                #IDstring=ltfA.IDstring*number_columns,\n",
    "                #scalefactor=np.repeat(ltfA.scalefactor, number_columns),\n",
    "                #offset=np.repeat(ltfA.offset, number_columns),\n",
    "                data = [PosT, PosL, PosV, accT, accL, accV], #=np.vstack(\n",
    "                names=['PosT', 'PosL', 'PosV', 'accT', 'accL', 'accV'],\n",
    "                units=['m','m','m', 'm/s^2','m/s^2','m/s^2'],\n",
    "                types=['Displacement','Displacement','Displacement', 'Acceleration','Acceleration','Acceleration'],\n",
    "                #info=[f'PGD={maxabs(SpoA2):.0f}m', f'PGA={maxabs(AccA2):.2f}m/s^2'],\n",
    "                )\n",
    "\n",
    "    # Make sure output directory exists\n",
    "    out_dir = Path(out_dir)\n",
    "    out_dir.mkdir(parents=True, exist_ok=True)\n",
    "\n",
    "    # Determine output filename\n",
    "    file_path = Path(file_path)\n",
    "    filename = file_path.stem + \".acq\"\n",
    "    output_path = out_dir / filename\n",
    "\n",
    "    # Write the .ltf file into the specified folder\n",
    "    ltfA.write(str(output_path))"
   ]
  },
  {
   "cell_type": "code",
   "execution_count": 32,
   "id": "fb183da4",
   "metadata": {},
   "outputs": [],
   "source": [
    "file_path = r'C:\\Users\\afons\\OneDrive - Universidade de Lisboa\\Controlo de Plataforma Sismica\\uniaxial_table_model\\Adapting_Driver_Signal\\Data_Files_LTF_and_TXT\\pink_noise_40Hz_T3mm_acq.txt'\n",
    "output_folder = r'C:\\Users\\afons\\OneDrive - Universidade de Lisboa\\Controlo de Plataforma Sismica\\uniaxial_table_model\\Adapting_Driver_Signal\\Data_Files_LTF_and_TXT'\n",
    "txt_to_ltf(file_path, output_folder)"
   ]
  }
 ],
 "metadata": {
  "kernelspec": {
   "display_name": "base",
   "language": "python",
   "name": "python3"
  },
  "language_info": {
   "codemirror_mode": {
    "name": "ipython",
    "version": 3
   },
   "file_extension": ".py",
   "mimetype": "text/x-python",
   "name": "python",
   "nbconvert_exporter": "python",
   "pygments_lexer": "ipython3",
   "version": "3.11.5"
  }
 },
 "nbformat": 4,
 "nbformat_minor": 5
}
