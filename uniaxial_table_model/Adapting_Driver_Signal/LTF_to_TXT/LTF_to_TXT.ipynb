{
 "cells": [
  {
   "cell_type": "code",
   "execution_count": 5,
   "id": "a9dd3d55",
   "metadata": {},
   "outputs": [],
   "source": [
    "from pathlib import Path\n",
    "import sys\n",
    "import numpy as np\n",
    "from scipy.constants import g\n",
    "\n",
    "# Ensure personal Python packages are in path\n",
    "if (ppfolder := str(Path('..') / 'personal_python_packages')) not in sys.path:\n",
    "    sys.path.append(ppfolder)\n",
    "from LNECSPA import LTFdb\n",
    "\n",
    "def ltf_to_txt(file_path, out_dir):\n",
    "    \"\"\"\n",
    "    Read LNEC .acq file and export to TXT, automatically classifying\n",
    "    channels as displacement or acceleration based on types or units.\n",
    "    Displacement units: 'mm' -> convert to meters.\n",
    "    Acceleration units: 'g'  -> convert to m/s^2.\n",
    "    After conversion, update units to SI and fill missing types.\n",
    "    Directly modifies tgtA._data so that write_txt sees the converted arrays.\n",
    "    \"\"\"\n",
    "    file_path = Path(file_path)\n",
    "    tgtA = LTFdb()\n",
    "    tgtA.read(file_path)\n",
    "\n",
    "    # Determine channel indices by type or unit\n",
    "    acc_inds = []\n",
    "    disp_inds = []\n",
    "    for idx, (typ, unit) in enumerate(zip(tgtA.types, tgtA.units)):\n",
    "        t = (typ or '').strip().lower()\n",
    "        u = (unit or '').strip().lower()\n",
    "        if t == 'acceleration' or (not t and u == 'g'):\n",
    "            acc_inds.append(idx)\n",
    "            # Fill missing type if empty\n",
    "            if not tgtA.types[idx].strip():\n",
    "                tgtA.types[idx] = 'acceleration'\n",
    "        elif t == 'displacement' or (not t and u == 'mm'):\n",
    "            disp_inds.append(idx)\n",
    "            if not tgtA.types[idx].strip():\n",
    "                tgtA.types[idx] = 'displacement'\n",
    "        else:\n",
    "            # Channels with unknown type/unit: skip or handle as needed\n",
    "            print(f\"Channel {idx}: Unknown type '{typ}' and/or unit '{unit}'. Skipping conversion for this channel.\")\n",
    "            continue\n",
    "\n",
    "    # Convert displacement channels: directly modify tgtA._data\n",
    "    for ch_idx in disp_inds:\n",
    "        # Retrieve the 1D data array for this channel\n",
    "        arr = np.array(tgtA._data[ch_idx], dtype=float)  # ensure float\n",
    "        original_unit = (tgtA.units[ch_idx] or '').strip().lower()\n",
    "        if original_unit == 'mm':\n",
    "            arr = arr * 1e-3  # mm -> m\n",
    "            tgtA.units[ch_idx] = 'm'\n",
    "        elif original_unit == 'm':\n",
    "            # already SI, leave arr as is\n",
    "            pass\n",
    "        else:\n",
    "            print(f\"Displacement channel {ch_idx}: Unrecognized unit '{original_unit}'. No conversion applied.\")\n",
    "            # you might choose to leave arr unchanged or handle other units\n",
    "        # Assign back to internal data list\n",
    "        tgtA._data[ch_idx] = arr\n",
    "\n",
    "    # Convert acceleration channels: directly modify tgtA._data\n",
    "    for ch_idx in acc_inds:\n",
    "        arr = np.array(tgtA._data[ch_idx], dtype=float)\n",
    "        original_unit = (tgtA.units[ch_idx] or '').strip().lower()\n",
    "        if original_unit == 'g':\n",
    "            arr = arr * g  # g -> m/s^2\n",
    "            tgtA.units[ch_idx] = 'm/s^2'\n",
    "        elif original_unit in ['m/s^2', 'm/s²']:\n",
    "            # already SI\n",
    "            pass\n",
    "        else:\n",
    "            print(f\"Acceleration channel {ch_idx}: Unrecognized unit '{original_unit}'. No conversion applied.\")\n",
    "        tgtA._data[ch_idx] = arr\n",
    "\n",
    "    # Ensure output directory exists\n",
    "    out_dir = Path(out_dir)\n",
    "    out_dir.mkdir(parents=True, exist_ok=True)\n",
    "\n",
    "    # Determine output filename (append .txt)\n",
    "    filename = file_path.name + \".txt\"\n",
    "    output_path = out_dir / filename\n",
    "\n",
    "    # Write the .ltf database to TXT using the updated _data\n",
    "    tgtA.write_txt(str(output_path))\n",
    "    print(f\"Written converted data to {output_path}\")\n"
   ]
  },
  {
   "cell_type": "code",
   "execution_count": 6,
   "id": "55f8a411",
   "metadata": {},
   "outputs": [
    {
     "name": "stdout",
     "output_type": "stream",
     "text": [
      "Written converted data to C:\\Users\\afons\\OneDrive - Universidade de Lisboa\\Controlo de Plataforma Sismica\\uniaxial_table_model\\Adapting_Driver_Signal\\PRJ_project\\LAquilaReducedScale.tgt.txt\n"
     ]
    }
   ],
   "source": [
    "file_path = r'C:\\Users\\afons\\OneDrive - Universidade de Lisboa\\Controlo de Plataforma Sismica\\uniaxial_table_model\\Adapting_Driver_Signal\\PRJ_project\\LAquilaReducedScale.tgt'\n",
    "output_folder = r'C:\\Users\\afons\\OneDrive - Universidade de Lisboa\\Controlo de Plataforma Sismica\\uniaxial_table_model\\Adapting_Driver_Signal\\PRJ_project'\n",
    "ltf_to_txt(file_path  , output_folder)"
   ]
  },
  {
   "cell_type": "code",
   "execution_count": 9,
   "id": "62fa79d4",
   "metadata": {},
   "outputs": [
    {
     "name": "stdout",
     "output_type": "stream",
     "text": [
      "Written converted data to C:\\Users\\afons\\OneDrive - Universidade de Lisboa\\Controlo de Plataforma Sismica\\uniaxial_table_model\\Adapting_Driver_Signal\\PRJ_project\\pink_noise_40Hz_T3mm.drv.txt\n"
     ]
    }
   ],
   "source": [
    "file_path = r'C:\\Users\\afons\\OneDrive - Universidade de Lisboa\\Controlo de Plataforma Sismica\\LNEC_Adapta_Driver\\LNEC_ERIES_RE-SAFE\\CTL\\SystemId\\pink_noise_40Hz_T3mm.drv'\n",
    "output_folder = r'C:\\Users\\afons\\OneDrive - Universidade de Lisboa\\Controlo de Plataforma Sismica\\uniaxial_table_model\\Adapting_Driver_Signal\\PRJ_project'\n",
    "ltf_to_txt(file_path  , output_folder)"
   ]
  },
  {
   "cell_type": "code",
   "execution_count": null,
   "id": "5d6f1865",
   "metadata": {},
   "outputs": [],
   "source": [
    "%%script skip\n",
    "file_path = r'C:\\Users\\afons\\OneDrive - Universidade de Lisboa\\Controlo de Plataforma Sismica\\uniaxial_table_model\\Adapting_Driver_Signal\\PRJ_project\\pink_noise_40Hz_T3mm_acq.txt.acq'\n",
    "\n",
    "file_path = r'C:\\Users\\afons\\OneDrive - Universidade de Lisboa\\Controlo de Plataforma Sismica\\LNEC_Adapta_Driver\\LNEC_ERIES_RE-SAFE\\CTL\\SystemId\\pink_noise_40Hz_T3mm_L4mm.drv'\n",
    "\n",
    "file_path = r'C:\\Users\\afons\\OneDrive - Universidade de Lisboa\\Controlo de Plataforma Sismica\\uniaxial_table_model\\Adapting_Driver_Signal\\PRJ_project\\LAquilaReducedScale_0.DRV'\n",
    "\n",
    "file_path = r'C:\\Users\\afons\\OneDrive - Universidade de Lisboa\\Controlo de Plataforma Sismica\\LNEC_Adapta_Driver\\LNEC_ERIES_RE-SAFE\\CTL\\TestLAquila\\LAquilaReducedScale.tgt'\n",
    "\n",
    "file_path = r'C:\\Users\\afons\\OneDrive - Universidade de Lisboa\\Controlo de Plataforma Sismica\\LNEC_Adapta_Driver\\LNEC_ERIES_RE-SAFE\\CTL\\TestLAquila\\2024-09-11\\LAquilaReducedScale_34.DRV'\n",
    "\n",
    "file_path = r'C:\\Users\\afons\\OneDrive - Universidade de Lisboa\\Controlo de Plataforma Sismica\\LNEC_Adapta_Driver\\LNEC_ERIES_RE-SAFE\\CTL\\TestLAquila\\2024-09-11\\LAquilaReducedScale_34.acq'\n",
    "\n",
    "file_path = r'C:\\Users\\afons\\OneDrive - Universidade de Lisboa\\Controlo de Plataforma Sismica\\LNEC_Adapta_Driver\\LNEC_ERIES_RE-SAFE\\CTL\\SystemId\\pink_noise_40Hz_L4mm.drv'\n",
    "\n",
    "file_path = r'C:\\Users\\afons\\OneDrive - Universidade de Lisboa\\Controlo de Plataforma Sismica\\LNEC_Adapta_Driver\\LNEC_ERIES_RE-SAFE\\CTL\\SystemId\\pink_noise_40Hz_T3mm.drv'"
   ]
  },
  {
   "cell_type": "code",
   "execution_count": null,
   "id": "8a616880",
   "metadata": {},
   "outputs": [],
   "source": []
  }
 ],
 "metadata": {
  "kernelspec": {
   "display_name": "base",
   "language": "python",
   "name": "python3"
  },
  "language_info": {
   "codemirror_mode": {
    "name": "ipython",
    "version": 3
   },
   "file_extension": ".py",
   "mimetype": "text/x-python",
   "name": "python",
   "nbconvert_exporter": "python",
   "pygments_lexer": "ipython3",
   "version": "3.11.5"
  }
 },
 "nbformat": 4,
 "nbformat_minor": 5
}
