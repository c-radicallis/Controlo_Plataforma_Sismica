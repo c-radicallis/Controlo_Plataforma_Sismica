{
 "cells": [
  {
   "cell_type": "code",
   "execution_count": 2,
   "id": "78d005a2-1c0c-4fbd-864e-74aabf26166d",
   "metadata": {
    "editable": true,
    "slideshow": {
     "slide_type": ""
    },
    "tags": []
   },
   "outputs": [
    {
     "data": {
      "text/latex": [
       "$\\displaystyle xp - \\frac{- \\frac{A kh \\left(A s^{2} tsv xp + A s xp - \\frac{isv kq ksv^{2}}{s tsv + 1}\\right)}{A^{2} s^{2} tsv + A^{2} s + ct kh s tsv + ct kh + kc kh ksv} + \\frac{msp^{2} s^{4} xp}{csp s + ksp + msp s^{2}}}{ct s + s^{2} \\left(mp + msp \\left(- \\frac{msp s^{2}}{csp s + ksp + msp s^{2}} + 1\\right)\\right)}$"
      ],
      "text/plain": [
       "xp - (-A*kh*(A*s**2*tsv*xp + A*s*xp - isv*kq*ksv**2/(s*tsv + 1))/(A**2*s**2*tsv + A**2*s + ct*kh*s*tsv + ct*kh + kc*kh*ksv) + msp**2*s**4*xp/(csp*s + ksp + msp*s**2))/(ct*s + s**2*(mp + msp*(-msp*s**2/(csp*s + ksp + msp*s**2) + 1)))"
      ]
     },
     "execution_count": 2,
     "metadata": {},
     "output_type": "execute_result"
    }
   ],
   "source": [
    "#ST1D: obtenção da função de transferência\n",
    "#modelo com sistema 1DOF acoplado a plataforma\n",
    "\n",
    "from sympy import symbols\n",
    "ksv, tsv, s = symbols('ksv tsv s')\n",
    "expr1 = ksv/(1+tsv*s)\n",
    "#expr1\n",
    "\n",
    "kq, kc, xsv, pl = symbols('kq kc xsv pl')\n",
    "expr2=kq*xsv-kc*pl\n",
    "#expr2\n",
    "\n",
    "ct, A, kh = symbols('ct A kh')\n",
    "expr3=1/(ct+A*A/kh*s)\n",
    "#expr3\n",
    "\n",
    "expr4=A\n",
    "\n",
    "expr5=A*s\n",
    "\n",
    "msp, csp, ksp=symbols('msp csp ksp')\n",
    "Hsp=-msp*s*s/(msp*s*s+csp*s+ksp)\n",
    "#Hsp\n",
    "\n",
    "mp=symbols('mp')\n",
    "mt=mp+msp*(1+Hsp)\n",
    "#mt\n",
    "\n",
    "expr6=1/(mt*s*s+ct*s)\n",
    "#expr6\n",
    "\n",
    "expr7=msp*s*s\n",
    "\n",
    "Ql=expr1*expr2\n",
    "#Ql\n",
    "\n",
    "from sympy import *\n",
    "xp, isv=symbols('xp isv')\n",
    "expr_pl_1=pl-(Ql-expr5*xp)*expr3\n",
    "expr_pl_2=solveset(expr_pl_1,pl)\n",
    "expr_pl_3=expr_pl_2.args[0]            #para converter FiniteSet em sym, i.e. tirar os parenteses {}\n",
    "expr_pl=expr_pl_3.subs(xsv,expr1*isv)  \n",
    "#expr_pl\n",
    "#expand(expr_pl)\n",
    "#factor(expr_pl)\n",
    "\n",
    "expr_fs=A*expr_pl\n",
    "#expr_fs\n",
    "\n",
    "expr8=1/(csp*s+ksp)\n",
    "#expr8\n",
    "\n",
    "expr_Hsp=-expr7*(expr8/(1+expr7*expr8))\n",
    "#expr_Hsp\n",
    "\n",
    "expr_xp_1=xp-expr6*((expr_fs-expr7*Hsp*xp))\n",
    "#expr_xp_2=solveset(expr_xp_1,xp)\n",
    "#expr_xp_3=expr_xp_2.args[0] \n",
    "#expr_xp_3\n",
    "expr_xp_1"
   ]
  },
  {
   "cell_type": "code",
   "execution_count": 3,
   "id": "762be5ae-6d4e-485a-981b-64f558a505f1",
   "metadata": {
    "editable": true,
    "slideshow": {
     "slide_type": ""
    },
    "tags": []
   },
   "outputs": [
    {
     "data": {
      "text/latex": [
       "$\\displaystyle \\left\\{\\frac{A isv kh kq ksv^{2} \\left(csp s + ksp + msp s^{2}\\right)}{s \\left(s tsv + 1\\right) \\left(A^{2} csp ct s^{3} tsv + A^{2} csp ct s^{2} + A^{2} csp kh s^{2} tsv + A^{2} csp kh s + A^{2} csp mp s^{4} tsv + A^{2} csp mp s^{3} + A^{2} csp msp s^{4} tsv + A^{2} csp msp s^{3} + A^{2} ct ksp s^{2} tsv + A^{2} ct ksp s + A^{2} ct msp s^{4} tsv + A^{2} ct msp s^{3} + A^{2} kh ksp s tsv + A^{2} kh ksp + A^{2} kh msp s^{3} tsv + A^{2} kh msp s^{2} + A^{2} ksp mp s^{3} tsv + A^{2} ksp mp s^{2} + A^{2} ksp msp s^{3} tsv + A^{2} ksp msp s^{2} + A^{2} mp msp s^{5} tsv + A^{2} mp msp s^{4} - A^{2} msp^{2} s^{5} tsv - A^{2} msp^{2} s^{4} + csp ct^{2} kh s^{2} tsv + csp ct^{2} kh s + csp ct kc kh ksv s + csp ct kh mp s^{3} tsv + csp ct kh mp s^{2} + csp ct kh msp s^{3} tsv + csp ct kh msp s^{2} + csp kc kh ksv mp s^{2} + csp kc kh ksv msp s^{2} + ct^{2} kh ksp s tsv + ct^{2} kh ksp + ct^{2} kh msp s^{3} tsv + ct^{2} kh msp s^{2} + ct kc kh ksp ksv + ct kc kh ksv msp s^{2} + ct kh ksp mp s^{2} tsv + ct kh ksp mp s + ct kh ksp msp s^{2} tsv + ct kh ksp msp s + ct kh mp msp s^{4} tsv + ct kh mp msp s^{3} - ct kh msp^{2} s^{4} tsv - ct kh msp^{2} s^{3} + kc kh ksp ksv mp s + kc kh ksp ksv msp s + kc kh ksv mp msp s^{3} - kc kh ksv msp^{2} s^{3}\\right)}\\right\\}$"
      ],
      "text/plain": [
       "{A*isv*kh*kq*ksv**2*(csp*s + ksp + msp*s**2)/(s*(s*tsv + 1)*(A**2*csp*ct*s**3*tsv + A**2*csp*ct*s**2 + A**2*csp*kh*s**2*tsv + A**2*csp*kh*s + A**2*csp*mp*s**4*tsv + A**2*csp*mp*s**3 + A**2*csp*msp*s**4*tsv + A**2*csp*msp*s**3 + A**2*ct*ksp*s**2*tsv + A**2*ct*ksp*s + A**2*ct*msp*s**4*tsv + A**2*ct*msp*s**3 + A**2*kh*ksp*s*tsv + A**2*kh*ksp + A**2*kh*msp*s**3*tsv + A**2*kh*msp*s**2 + A**2*ksp*mp*s**3*tsv + A**2*ksp*mp*s**2 + A**2*ksp*msp*s**3*tsv + A**2*ksp*msp*s**2 + A**2*mp*msp*s**5*tsv + A**2*mp*msp*s**4 - A**2*msp**2*s**5*tsv - A**2*msp**2*s**4 + csp*ct**2*kh*s**2*tsv + csp*ct**2*kh*s + csp*ct*kc*kh*ksv*s + csp*ct*kh*mp*s**3*tsv + csp*ct*kh*mp*s**2 + csp*ct*kh*msp*s**3*tsv + csp*ct*kh*msp*s**2 + csp*kc*kh*ksv*mp*s**2 + csp*kc*kh*ksv*msp*s**2 + ct**2*kh*ksp*s*tsv + ct**2*kh*ksp + ct**2*kh*msp*s**3*tsv + ct**2*kh*msp*s**2 + ct*kc*kh*ksp*ksv + ct*kc*kh*ksv*msp*s**2 + ct*kh*ksp*mp*s**2*tsv + ct*kh*ksp*mp*s + ct*kh*ksp*msp*s**2*tsv + ct*kh*ksp*msp*s + ct*kh*mp*msp*s**4*tsv + ct*kh*mp*msp*s**3 - ct*kh*msp**2*s**4*tsv - ct*kh*msp**2*s**3 + kc*kh*ksp*ksv*mp*s + kc*kh*ksp*ksv*msp*s + kc*kh*ksv*mp*msp*s**3 - kc*kh*ksv*msp**2*s**3))}"
      ]
     },
     "execution_count": 3,
     "metadata": {},
     "output_type": "execute_result"
    }
   ],
   "source": [
    "expr_xp_2=solveset(expr_xp_1,xp)\n",
    "expr_xp_2"
   ]
  },
  {
   "cell_type": "code",
   "execution_count": 6,
   "id": "36772f03-3415-4e0c-95d0-e4c4decfa8a7",
   "metadata": {},
   "outputs": [
    {
     "data": {
      "text/latex": [
       "$\\displaystyle \\frac{A isv kh kq ksv^{2} \\left(csp s + ksp + msp s^{2}\\right)}{s \\left(s tsv + 1\\right) \\left(A^{2} csp ct s^{3} tsv + A^{2} csp ct s^{2} + A^{2} csp kh s^{2} tsv + A^{2} csp kh s + A^{2} csp mp s^{4} tsv + A^{2} csp mp s^{3} + A^{2} csp msp s^{4} tsv + A^{2} csp msp s^{3} + A^{2} ct ksp s^{2} tsv + A^{2} ct ksp s + A^{2} ct msp s^{4} tsv + A^{2} ct msp s^{3} + A^{2} kh ksp s tsv + A^{2} kh ksp + A^{2} kh msp s^{3} tsv + A^{2} kh msp s^{2} + A^{2} ksp mp s^{3} tsv + A^{2} ksp mp s^{2} + A^{2} ksp msp s^{3} tsv + A^{2} ksp msp s^{2} + A^{2} mp msp s^{5} tsv + A^{2} mp msp s^{4} - A^{2} msp^{2} s^{5} tsv - A^{2} msp^{2} s^{4} + csp ct^{2} kh s^{2} tsv + csp ct^{2} kh s + csp ct kc kh ksv s + csp ct kh mp s^{3} tsv + csp ct kh mp s^{2} + csp ct kh msp s^{3} tsv + csp ct kh msp s^{2} + csp kc kh ksv mp s^{2} + csp kc kh ksv msp s^{2} + ct^{2} kh ksp s tsv + ct^{2} kh ksp + ct^{2} kh msp s^{3} tsv + ct^{2} kh msp s^{2} + ct kc kh ksp ksv + ct kc kh ksv msp s^{2} + ct kh ksp mp s^{2} tsv + ct kh ksp mp s + ct kh ksp msp s^{2} tsv + ct kh ksp msp s + ct kh mp msp s^{4} tsv + ct kh mp msp s^{3} - ct kh msp^{2} s^{4} tsv - ct kh msp^{2} s^{3} + kc kh ksp ksv mp s + kc kh ksp ksv msp s + kc kh ksv mp msp s^{3} - kc kh ksv msp^{2} s^{3}\\right)}$"
      ],
      "text/plain": [
       "A*isv*kh*kq*ksv**2*(csp*s + ksp + msp*s**2)/(s*(s*tsv + 1)*(A**2*csp*ct*s**3*tsv + A**2*csp*ct*s**2 + A**2*csp*kh*s**2*tsv + A**2*csp*kh*s + A**2*csp*mp*s**4*tsv + A**2*csp*mp*s**3 + A**2*csp*msp*s**4*tsv + A**2*csp*msp*s**3 + A**2*ct*ksp*s**2*tsv + A**2*ct*ksp*s + A**2*ct*msp*s**4*tsv + A**2*ct*msp*s**3 + A**2*kh*ksp*s*tsv + A**2*kh*ksp + A**2*kh*msp*s**3*tsv + A**2*kh*msp*s**2 + A**2*ksp*mp*s**3*tsv + A**2*ksp*mp*s**2 + A**2*ksp*msp*s**3*tsv + A**2*ksp*msp*s**2 + A**2*mp*msp*s**5*tsv + A**2*mp*msp*s**4 - A**2*msp**2*s**5*tsv - A**2*msp**2*s**4 + csp*ct**2*kh*s**2*tsv + csp*ct**2*kh*s + csp*ct*kc*kh*ksv*s + csp*ct*kh*mp*s**3*tsv + csp*ct*kh*mp*s**2 + csp*ct*kh*msp*s**3*tsv + csp*ct*kh*msp*s**2 + csp*kc*kh*ksv*mp*s**2 + csp*kc*kh*ksv*msp*s**2 + ct**2*kh*ksp*s*tsv + ct**2*kh*ksp + ct**2*kh*msp*s**3*tsv + ct**2*kh*msp*s**2 + ct*kc*kh*ksp*ksv + ct*kc*kh*ksv*msp*s**2 + ct*kh*ksp*mp*s**2*tsv + ct*kh*ksp*mp*s + ct*kh*ksp*msp*s**2*tsv + ct*kh*ksp*msp*s + ct*kh*mp*msp*s**4*tsv + ct*kh*mp*msp*s**3 - ct*kh*msp**2*s**4*tsv - ct*kh*msp**2*s**3 + kc*kh*ksp*ksv*mp*s + kc*kh*ksp*ksv*msp*s + kc*kh*ksv*mp*msp*s**3 - kc*kh*ksv*msp**2*s**3))"
      ]
     },
     "execution_count": 6,
     "metadata": {},
     "output_type": "execute_result"
    }
   ],
   "source": [
    "factor(expr_xp_2.args[0])"
   ]
  },
  {
   "cell_type": "code",
   "execution_count": 7,
   "id": "fa7f6ac8-c094-40c3-84b6-405890b84096",
   "metadata": {},
   "outputs": [
    {
     "data": {
      "text/latex": [
       "$\\displaystyle \\frac{A isv kh kq ksv^{2} \\left(csp s + ksp + msp s^{2}\\right)}{s \\left(s tsv + 1\\right) \\left(A^{2} csp ct s^{3} tsv + A^{2} csp ct s^{2} + A^{2} csp kh s^{2} tsv + A^{2} csp kh s + A^{2} csp mp s^{4} tsv + A^{2} csp mp s^{3} + A^{2} csp msp s^{4} tsv + A^{2} csp msp s^{3} + A^{2} ct ksp s^{2} tsv + A^{2} ct ksp s + A^{2} ct msp s^{4} tsv + A^{2} ct msp s^{3} + A^{2} kh ksp s tsv + A^{2} kh ksp + A^{2} kh msp s^{3} tsv + A^{2} kh msp s^{2} + A^{2} ksp mp s^{3} tsv + A^{2} ksp mp s^{2} + A^{2} ksp msp s^{3} tsv + A^{2} ksp msp s^{2} + A^{2} mp msp s^{5} tsv + A^{2} mp msp s^{4} - A^{2} msp^{2} s^{5} tsv - A^{2} msp^{2} s^{4} + csp ct^{2} kh s^{2} tsv + csp ct^{2} kh s + csp ct kc kh ksv s + csp ct kh mp s^{3} tsv + csp ct kh mp s^{2} + csp ct kh msp s^{3} tsv + csp ct kh msp s^{2} + csp kc kh ksv mp s^{2} + csp kc kh ksv msp s^{2} + ct^{2} kh ksp s tsv + ct^{2} kh ksp + ct^{2} kh msp s^{3} tsv + ct^{2} kh msp s^{2} + ct kc kh ksp ksv + ct kc kh ksv msp s^{2} + ct kh ksp mp s^{2} tsv + ct kh ksp mp s + ct kh ksp msp s^{2} tsv + ct kh ksp msp s + ct kh mp msp s^{4} tsv + ct kh mp msp s^{3} - ct kh msp^{2} s^{4} tsv - ct kh msp^{2} s^{3} + kc kh ksp ksv mp s + kc kh ksp ksv msp s + kc kh ksv mp msp s^{3} - kc kh ksv msp^{2} s^{3}\\right)}$"
      ],
      "text/plain": [
       "A*isv*kh*kq*ksv**2*(csp*s + ksp + msp*s**2)/(s*(s*tsv + 1)*(A**2*csp*ct*s**3*tsv + A**2*csp*ct*s**2 + A**2*csp*kh*s**2*tsv + A**2*csp*kh*s + A**2*csp*mp*s**4*tsv + A**2*csp*mp*s**3 + A**2*csp*msp*s**4*tsv + A**2*csp*msp*s**3 + A**2*ct*ksp*s**2*tsv + A**2*ct*ksp*s + A**2*ct*msp*s**4*tsv + A**2*ct*msp*s**3 + A**2*kh*ksp*s*tsv + A**2*kh*ksp + A**2*kh*msp*s**3*tsv + A**2*kh*msp*s**2 + A**2*ksp*mp*s**3*tsv + A**2*ksp*mp*s**2 + A**2*ksp*msp*s**3*tsv + A**2*ksp*msp*s**2 + A**2*mp*msp*s**5*tsv + A**2*mp*msp*s**4 - A**2*msp**2*s**5*tsv - A**2*msp**2*s**4 + csp*ct**2*kh*s**2*tsv + csp*ct**2*kh*s + csp*ct*kc*kh*ksv*s + csp*ct*kh*mp*s**3*tsv + csp*ct*kh*mp*s**2 + csp*ct*kh*msp*s**3*tsv + csp*ct*kh*msp*s**2 + csp*kc*kh*ksv*mp*s**2 + csp*kc*kh*ksv*msp*s**2 + ct**2*kh*ksp*s*tsv + ct**2*kh*ksp + ct**2*kh*msp*s**3*tsv + ct**2*kh*msp*s**2 + ct*kc*kh*ksp*ksv + ct*kc*kh*ksv*msp*s**2 + ct*kh*ksp*mp*s**2*tsv + ct*kh*ksp*mp*s + ct*kh*ksp*msp*s**2*tsv + ct*kh*ksp*msp*s + ct*kh*mp*msp*s**4*tsv + ct*kh*mp*msp*s**3 - ct*kh*msp**2*s**4*tsv - ct*kh*msp**2*s**3 + kc*kh*ksp*ksv*mp*s + kc*kh*ksp*ksv*msp*s + kc*kh*ksv*mp*msp*s**3 - kc*kh*ksv*msp**2*s**3))"
      ]
     },
     "execution_count": 7,
     "metadata": {},
     "output_type": "execute_result"
    }
   ],
   "source": [
    "simplify(expr_xp_2.args[0])"
   ]
  },
  {
   "cell_type": "code",
   "execution_count": 8,
   "id": "63b254d8-f8b8-494a-8973-6b92fde666b5",
   "metadata": {},
   "outputs": [
    {
     "name": "stdout",
     "output_type": "stream",
     "text": [
      "A*isv*kh*kq*ksv**2*(csp*s + ksp + msp*s**2)/(s*(s*tsv + 1)*(A**2*csp*ct*s**3*tsv + A**2*csp*ct*s**2 + A**2*csp*kh*s**2*tsv + A**2*csp*kh*s + A**2*csp*mp*s**4*tsv + A**2*csp*mp*s**3 + A**2*csp*msp*s**4*tsv + A**2*csp*msp*s**3 + A**2*ct*ksp*s**2*tsv + A**2*ct*ksp*s + A**2*ct*msp*s**4*tsv + A**2*ct*msp*s**3 + A**2*kh*ksp*s*tsv + A**2*kh*ksp + A**2*kh*msp*s**3*tsv + A**2*kh*msp*s**2 + A**2*ksp*mp*s**3*tsv + A**2*ksp*mp*s**2 + A**2*ksp*msp*s**3*tsv + A**2*ksp*msp*s**2 + A**2*mp*msp*s**5*tsv + A**2*mp*msp*s**4 - A**2*msp**2*s**5*tsv - A**2*msp**2*s**4 + csp*ct**2*kh*s**2*tsv + csp*ct**2*kh*s + csp*ct*kc*kh*ksv*s + csp*ct*kh*mp*s**3*tsv + csp*ct*kh*mp*s**2 + csp*ct*kh*msp*s**3*tsv + csp*ct*kh*msp*s**2 + csp*kc*kh*ksv*mp*s**2 + csp*kc*kh*ksv*msp*s**2 + ct**2*kh*ksp*s*tsv + ct**2*kh*ksp + ct**2*kh*msp*s**3*tsv + ct**2*kh*msp*s**2 + ct*kc*kh*ksp*ksv + ct*kc*kh*ksv*msp*s**2 + ct*kh*ksp*mp*s**2*tsv + ct*kh*ksp*mp*s + ct*kh*ksp*msp*s**2*tsv + ct*kh*ksp*msp*s + ct*kh*mp*msp*s**4*tsv + ct*kh*mp*msp*s**3 - ct*kh*msp**2*s**4*tsv - ct*kh*msp**2*s**3 + kc*kh*ksp*ksv*mp*s + kc*kh*ksp*ksv*msp*s + kc*kh*ksv*mp*msp*s**3 - kc*kh*ksv*msp**2*s**3))\n"
     ]
    }
   ],
   "source": [
    "print(expr_xp_2.args[0])"
   ]
  },
  {
   "cell_type": "code",
   "execution_count": 10,
   "id": "a695941d-b147-4528-9576-c4a63f98a2b4",
   "metadata": {},
   "outputs": [
    {
     "data": {
      "text/latex": [
       "$\\displaystyle \\frac{s xp \\left(ct \\left(csp s + ksp + msp s^{2}\\right) - msp^{2} s^{3} + s \\left(mp \\left(csp s + ksp + msp s^{2}\\right) + msp \\left(csp s + ksp\\right)\\right)\\right)}{csp s + ksp + msp s^{2}}$"
      ],
      "text/plain": [
       "s*xp*(ct*(csp*s + ksp + msp*s**2) - msp**2*s**3 + s*(mp*(csp*s + ksp + msp*s**2) + msp*(csp*s + ksp)))/(csp*s + ksp + msp*s**2)"
      ]
     },
     "execution_count": 10,
     "metadata": {},
     "output_type": "execute_result"
    }
   ],
   "source": [
    "#determinação de fs/xp\n",
    "fs = symbols('fs')\n",
    "expr_fs2=xp-expr6*(fs-expr7*Hsp*xp)\n",
    "expr_fs2_2=solveset(expr_fs2,fs)\n",
    "expr_fs2_3=expr_fs2_2.args[0] \n",
    "simplify(expr_fs2_3)\n",
    "\n",
    "\n",
    "#exp_fs2=(1+expr7*Hsp*expr6)/expr6\n",
    "#simplify(exp_fs2)"
   ]
  },
  {
   "cell_type": "code",
   "execution_count": 6,
   "id": "a9e8cec6-84fd-4541-94fa-2893c6697c8b",
   "metadata": {},
   "outputs": [
    {
     "data": {
      "text/latex": [
       "$\\displaystyle \\frac{s \\left(ct \\left(csp s + ksp + msp s^{2}\\right) - msp^{2} s^{3} + s \\left(mp \\left(csp s + ksp + msp s^{2}\\right) + msp \\left(csp s + ksp\\right)\\right)\\right)}{csp s + ksp + msp s^{2}}$"
      ],
      "text/plain": [
       "s*(ct*(csp*s + ksp + msp*s**2) - msp**2*s**3 + s*(mp*(csp*s + ksp + msp*s**2) + msp*(csp*s + ksp)))/(csp*s + ksp + msp*s**2)"
      ]
     },
     "execution_count": 6,
     "metadata": {},
     "output_type": "execute_result"
    }
   ],
   "source": [
    "xp_fs2=(1+expr7*Hsp*expr6)/expr6\n",
    "simplify(exp_fs2)"
   ]
  },
  {
   "cell_type": "code",
   "execution_count": 3,
   "id": "e7ee50c0-9d27-4370-9fc0-6ba19723360c",
   "metadata": {},
   "outputs": [
    {
     "data": {
      "text/latex": [
       "$\\displaystyle - \\frac{A kh \\left(A s^{2} tsv xp + A s xp - \\frac{isv kq ksv^{2}}{s tsv + 1}\\right)}{A^{2} s^{2} tsv + A^{2} s + ct kh s tsv + ct kh + kc kh ksv}$"
      ],
      "text/plain": [
       "-A*kh*(A*s**2*tsv*xp + A*s*xp - isv*kq*ksv**2/(s*tsv + 1))/(A**2*s**2*tsv + A**2*s + ct*kh*s*tsv + ct*kh + kc*kh*ksv)"
      ]
     },
     "execution_count": 3,
     "metadata": {},
     "output_type": "execute_result"
    }
   ],
   "source": [
    "#ST1D: obtenção da função de transferência\n",
    "#modelo com sistema 1DOF acoplado a plataforma\n",
    "\n",
    "from sympy import symbols\n",
    "ksv, tsv, s = symbols('ksv tsv s')\n",
    "expr1 = ksv/(1+tsv*s)\n",
    "#expr1\n",
    "\n",
    "kq, kc, xsv, pl = symbols('kq kc xsv pl')\n",
    "expr2=kq*xsv-kc*pl\n",
    "#expr2\n",
    "\n",
    "ct, A, kh = symbols('ct A kh')\n",
    "expr3=1/(ct+A*A/kh*s)\n",
    "#expr3\n",
    "\n",
    "expr4=A\n",
    "\n",
    "expr5=A*s\n",
    "\n",
    "msp, csp, ksp=symbols('msp csp ksp')\n",
    "Hsp=-msp*s*s/(msp*s*s+csp*s+ksp)\n",
    "#Hsp\n",
    "\n",
    "mp=symbols('mp')\n",
    "mt=mp+msp*(1+Hsp)\n",
    "#mt\n",
    "\n",
    "expr6=1/(mt*s*s+ct*s)\n",
    "#expr6\n",
    "\n",
    "expr7=msp*s*s\n",
    "\n",
    "Ql=expr1*expr2\n",
    "#Ql\n",
    "\n",
    "from sympy import *\n",
    "xp, isv=symbols('xp isv')\n",
    "expr_pl_1=pl-(Ql-expr5*xp)*expr3\n",
    "expr_pl_2=solveset(expr_pl_1,pl)\n",
    "expr_pl_3=expr_pl_2.args[0]            #para converter FiniteSet em sym, i.e. tirar os parenteses {}\n",
    "expr_pl=expr_pl_3.subs(xsv,expr1*isv)  \n",
    "#expr_pl\n",
    "#expand(expr_pl)\n",
    "#factor(expr_pl)\n",
    "\n",
    "expr_fs=A*expr_pl\n",
    "expr_fs\n"
   ]
  },
  {
   "cell_type": "code",
   "execution_count": null,
   "id": "8c608084-2587-4634-9852-923b78585820",
   "metadata": {},
   "outputs": [],
   "source": []
  }
 ],
 "metadata": {
  "kernelspec": {
   "display_name": "Python 3 (ipykernel)",
   "language": "python",
   "name": "python3"
  },
  "language_info": {
   "codemirror_mode": {
    "name": "ipython",
    "version": 3
   },
   "file_extension": ".py",
   "mimetype": "text/x-python",
   "name": "python",
   "nbconvert_exporter": "python",
   "pygments_lexer": "ipython3",
   "version": "3.11.7"
  }
 },
 "nbformat": 4,
 "nbformat_minor": 5
}
