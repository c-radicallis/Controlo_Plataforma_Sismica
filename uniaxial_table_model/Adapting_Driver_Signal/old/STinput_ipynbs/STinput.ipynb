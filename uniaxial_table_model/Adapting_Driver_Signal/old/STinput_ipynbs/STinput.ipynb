{
 "cells": [
  {
   "attachments": {},
   "cell_type": "markdown",
   "metadata": {},
   "source": [
    "<img src=\"logo_LNEC.png\" alt=\"LNEC\" width=\"200\" align=\"right\"/>\n",
    "\n",
    "# ERIES - RE-SAFE PROJECT - Claudio Mazzotti (_Università di Bologna_)\n",
    "\n",
    "## Specimen for the shake table test\n",
    "\n",
    "The RC frame specimen is built at a scale of 2/3 using the Cauchy-Froude similitude law.\n",
    "\n",
    "## Shake table input motions\n",
    "\n",
    "Two different earthquake records are under consideration for the shake table test at LNEC:\n",
    "\n",
    "1. The 2009 L'Aquila earthquake (L'AQUILA-IT.AVZ.00.HNN.D.IT-2009)\n",
    "\n",
    "0. The 1976 Friuli earthquake (TOLMEZZO)\n",
    "\n",
    "## Computational environment"
   ]
  },
  {
   "cell_type": "code",
   "execution_count": 8,
   "metadata": {},
   "outputs": [
    {
     "data": {
      "text/plain": [
       "' import PPcore\\nimport RSnumba\\nimport DSP\\nimport LNEC3DST\\nfrom RSnumba import cts as RScalc\\nfrom DSP import FrequencyDomain, dBpow\\n\\n# print environment\\nPPcore.environment(globals()) '"
      ]
     },
     "execution_count": 8,
     "metadata": {},
     "output_type": "execute_result"
    }
   ],
   "source": [
    "# Developed for Python 3.12.4\n",
    "from __future__ import annotations\n",
    "\n",
    "# Python standard library\n",
    "import os\n",
    "import sys\n",
    "import datetime\n",
    "\n",
    "from pathlib import Path\n",
    "\n",
    "# 3rd party modules\n",
    "import numpy as np\n",
    "import scipy as sp\n",
    "import pandas as pd\n",
    "import matplotlib as mpl\n",
    "\n",
    "from scipy import constants\n",
    "from scipy.signal import butter, sosfiltfilt, periodogram, resample\n",
    "from scipy.signal.windows import tukey\n",
    "\n",
    "import matplotlib.pyplot as plt\n",
    "\n",
    "# pxc modules\n",
    "if (ppfolder := str(Path('..') / 'personal_python_packages')) not in sys.path:\n",
    "    sys.path.append(ppfolder)\n",
    "\n",
    "\n",
    "import utilities\n",
    "import LNECSPA\n",
    "from utilities import maxabs\n",
    "from LNECSPA import LTFdb\n",
    "\n",
    "# missing imports\n",
    "\"\"\" import PPcore\n",
    "import RSnumba\n",
    "import DSP\n",
    "import LNEC3DST\n",
    "from RSnumba import cts as RScalc\n",
    "from DSP import FrequencyDomain, dBpow\n",
    "\n",
    "# print environment\n",
    "PPcore.environment(globals()) \"\"\""
   ]
  },
  {
   "cell_type": "code",
   "execution_count": 2,
   "metadata": {},
   "outputs": [],
   "source": [
    "# Data for the response spectra\n",
    "ff = np.geomspace(0.1, 40., num=200) # Hz\n",
    "TT = 1. / ff # s\n",
    "ww = 2. * np.pi * ff # rad/s\n",
    "zn = 0.05 # damping coefficient\n",
    "\n",
    "# Data for the scaled motions\n",
    "SF = 2. / 3. # 1:1.5 scale factor\n",
    "\n",
    "# Data for the LNEC3D shake table\n",
    "Fs = 20e3 #LNEC3DST.STfs # control system samplig frequency"
   ]
  },
  {
   "cell_type": "markdown",
   "metadata": {},
   "source": [
    "## _`Scalato`_ time series supplied"
   ]
  },
  {
   "cell_type": "code",
   "execution_count": 3,
   "metadata": {},
   "outputs": [],
   "source": [
    "fp = r\"C:\\Users\\afons\\OneDrive - Universidade de Lisboa\\Controlo de Plataforma Sismica\\LNEC_Adapta_Driver\\LNEC_ERIES_RE-SAFE\\ProposedMotions\"\n",
    "\n",
    "with pd.ExcelFile(Path(fp) / \"L'AQUILA-IT.AVZ.00.HNN.D.IT-2009.xlsx\") as reader:\n",
    "    dfA2 = reader.parse('Scalato', index_col=0, usecols='A:D')\n",
    "\n",
    "with pd.ExcelFile(Path(fp) / \"TOLMEZZO.xlsx\") as reader:\n",
    "    dfT2 = reader.parse('Scalato', index_col=0, usecols='A:D')\n"
   ]
  },
  {
   "cell_type": "markdown",
   "metadata": {},
   "source": [
    "## Data processing for the LNEC 3D shake table based on the _scalato_ signals\n",
    "\n",
    "The following processing steps are taken:\n",
    "\n",
    "1. Apply low pass digital filter (Butterworth) to displacement time series (corner frequency = 40Hz * sqrt(2/3))\n",
    "\n",
    "1. Apply Tukey window (20% in L'Aquila record, 10% in Tolmezzo record)\n",
    "\n",
    "1. Resample for 200 Hz (LNEC 3D shake table control requirement)\n",
    "\n",
    "1. Compute velocity and acceleration time series (differentiation in the frequency domain)\n",
    "\n",
    "1. Compute pseudo acceleration response spectra"
   ]
  },
  {
   "cell_type": "markdown",
   "metadata": {},
   "source": [
    "### L'AQUILA-IT.AVZ.00.HNN.D.IT-2009\n",
    "\n",
    "Processed time series"
   ]
  },
  {
   "cell_type": "code",
   "execution_count": 4,
   "metadata": {},
   "outputs": [
    {
     "name": "stdout",
     "output_type": "stream",
     "text": [
      "0.0050001552475984826\n",
      "44.90731195103284 44.905 0.005 8982\n"
     ]
    },
    {
     "ename": "NameError",
     "evalue": "name 'FrequencyDomain' is not defined",
     "output_type": "error",
     "traceback": [
      "\u001b[1;31m---------------------------------------------------------------------------\u001b[0m",
      "\u001b[1;31mNameError\u001b[0m                                 Traceback (most recent call last)",
      "Cell \u001b[1;32mIn[4], line 18\u001b[0m\n\u001b[0;32m     15\u001b[0m ttA3 \u001b[38;5;241m=\u001b[39m dtA3 \u001b[38;5;241m*\u001b[39m np\u001b[38;5;241m.\u001b[39marange(ttA3\u001b[38;5;241m.\u001b[39msize)\n\u001b[0;32m     16\u001b[0m \u001b[38;5;28mprint\u001b[39m(ttA2[\u001b[38;5;241m-\u001b[39m\u001b[38;5;241m1\u001b[39m], ttA3[\u001b[38;5;241m-\u001b[39m\u001b[38;5;241m1\u001b[39m], dtA3, ttA3\u001b[38;5;241m.\u001b[39msize) \u001b[38;5;66;03m# after rounding\u001b[39;00m\n\u001b[1;32m---> 18\u001b[0m VelA3 \u001b[38;5;241m=\u001b[39m FrequencyDomain\u001b[38;5;241m.\u001b[39mdifferentiate(SpoA3, dt\u001b[38;5;241m=\u001b[39mdtA3)\n\u001b[0;32m     19\u001b[0m AccA3 \u001b[38;5;241m=\u001b[39m FrequencyDomain\u001b[38;5;241m.\u001b[39mdifferentiate(VelA3, dt\u001b[38;5;241m=\u001b[39mdtA3)\n\u001b[0;32m     21\u001b[0m fig, ax \u001b[38;5;241m=\u001b[39m plt\u001b[38;5;241m.\u001b[39msubplots(nrows\u001b[38;5;241m=\u001b[39m\u001b[38;5;241m3\u001b[39m, sharex\u001b[38;5;241m=\u001b[39m\u001b[38;5;28;01mTrue\u001b[39;00m, figsize\u001b[38;5;241m=\u001b[39m(\u001b[38;5;241m18\u001b[39m,\u001b[38;5;241m6\u001b[39m), layout\u001b[38;5;241m=\u001b[39m\u001b[38;5;124m'\u001b[39m\u001b[38;5;124mconstrained\u001b[39m\u001b[38;5;124m'\u001b[39m)\n",
      "\u001b[1;31mNameError\u001b[0m: name 'FrequencyDomain' is not defined"
     ]
    }
   ],
   "source": [
    "ttA2 = dfA2.index\n",
    "dtA2 = ttA2[1] - ttA2[0]\n",
    "SpoA2 = dfA2['Spo'].to_numpy()\n",
    "\n",
    "sos = butter(8, 40.*np.sqrt(SF), output='sos', fs=1./dtA2)\n",
    "SpoA3 = sosfiltfilt(sos, SpoA2, padtype='even')\n",
    "\n",
    "SpoA3 *= tukey(SpoA3.size, alpha=0.2) # 20% Tukey window\n",
    "\n",
    "SpoA3, ttA3 = resample(SpoA3, int(ttA2.size*np.sqrt(SF)), ttA2)\n",
    "dtA3 = ttA3[1] - ttA3[0]\n",
    "print(dtA3) # before rounding\n",
    "\n",
    "dtA3 = np.round(dtA3, decimals=3)\n",
    "ttA3 = dtA3 * np.arange(ttA3.size)\n",
    "print(ttA2[-1], ttA3[-1], dtA3, ttA3.size) # after rounding\n",
    "\n",
    "VelA3 = FrequencyDomain.differentiate(SpoA3, dt=dtA3)\n",
    "AccA3 = FrequencyDomain.differentiate(VelA3, dt=dtA3)\n",
    "\n",
    "fig, ax = plt.subplots(nrows=3, sharex=True, figsize=(18,6), layout='constrained')\n",
    "ax[-1].set_xlabel('Time (s)')\n",
    "\n",
    "for axis, column, ts, units in zip(ax, ('Spo', 'Vel', 'Acc'), (SpoA3, VelA3, AccA3), ('cm', 'cm/s', 'cm/s²')):\n",
    "    axis.plot(dfA2[column], label=f'Scalato (peak={maxabs(dfA2[column]):.1f}{units})')\n",
    "    axis.plot(ttA3, ts, label=f'Processed (peak={maxabs(ts):.1f}{units})')\n",
    "    axis.set_ylabel(f'{column} ({units})')\n",
    "    axis.legend(loc='upper right')\n",
    "    axis.grid(visible=True)\n"
   ]
  },
  {
   "cell_type": "markdown",
   "metadata": {},
   "source": [
    "Power spectral density"
   ]
  },
  {
   "cell_type": "code",
   "execution_count": null,
   "metadata": {},
   "outputs": [],
   "source": [
    "fA2, PxxA2 = periodogram(dfA2['Acc'], fs=1./dtA2)\n",
    "fA3, PxxA3 = periodogram(AccA3, fs=1./dtA3)\n",
    "\n",
    "fig, ax = plt.subplots(figsize=(18,4), layout='constrained')\n",
    "ax.plot(fA2, dBpow(PxxA2), label='Scalato')\n",
    "ax.plot(fA3, dBpow(PxxA3), label='Processed')\n",
    "ax.set_xlabel('Frequency (Hz)')\n",
    "ax.set_ylabel('PSD (dB((cm/s²)²/Hz))')\n",
    "ax.set_ylim((-120., None))\n",
    "ax.legend(loc='upper right')\n",
    "ax.grid(visible=True)"
   ]
  },
  {
   "cell_type": "markdown",
   "metadata": {},
   "source": [
    "Response spectra"
   ]
  },
  {
   "cell_type": "code",
   "execution_count": 5,
   "metadata": {},
   "outputs": [
    {
     "ename": "NameError",
     "evalue": "name 'AccA3' is not defined",
     "output_type": "error",
     "traceback": [
      "\u001b[1;31m---------------------------------------------------------------------------\u001b[0m",
      "\u001b[1;31mNameError\u001b[0m                                 Traceback (most recent call last)",
      "Cell \u001b[1;32mIn[5], line 3\u001b[0m\n\u001b[0;32m      1\u001b[0m fig, ax \u001b[38;5;241m=\u001b[39m plt\u001b[38;5;241m.\u001b[39msubplots(figsize\u001b[38;5;241m=\u001b[39m(\u001b[38;5;241m18\u001b[39m,\u001b[38;5;241m6\u001b[39m), layout\u001b[38;5;241m=\u001b[39m\u001b[38;5;124m'\u001b[39m\u001b[38;5;124mconstrained\u001b[39m\u001b[38;5;124m'\u001b[39m)\n\u001b[1;32m----> 3\u001b[0m \u001b[38;5;28;01mfor\u001b[39;00m acc, dt, name \u001b[38;5;129;01min\u001b[39;00m \u001b[38;5;28mzip\u001b[39m((dfA2[\u001b[38;5;124m'\u001b[39m\u001b[38;5;124mAcc\u001b[39m\u001b[38;5;124m'\u001b[39m]\u001b[38;5;241m.\u001b[39mto_numpy(), AccA3\u001b[38;5;241m.\u001b[39mcopy()), (dtA2, dtA3), (\u001b[38;5;124m'\u001b[39m\u001b[38;5;124mScalato\u001b[39m\u001b[38;5;124m'\u001b[39m, \u001b[38;5;124m'\u001b[39m\u001b[38;5;124mProcessed\u001b[39m\u001b[38;5;124m'\u001b[39m)):\n\u001b[0;32m      4\u001b[0m     acc \u001b[38;5;241m/\u001b[39m\u001b[38;5;241m=\u001b[39m \u001b[38;5;241m100.\u001b[39m \u001b[38;5;66;03m# cm/s² -> m/s²\u001b[39;00m\n\u001b[0;32m      5\u001b[0m     rsd \u001b[38;5;241m=\u001b[39m RScalc(acc, dt, ww, zn)[:, \u001b[38;5;241m0\u001b[39m] \u001b[38;5;241m*\u001b[39m \u001b[38;5;241m100.\u001b[39m \u001b[38;5;66;03m# m -> cm\u001b[39;00m\n",
      "\u001b[1;31mNameError\u001b[0m: name 'AccA3' is not defined"
     ]
    },
    {
     "data": {
      "image/png": "[encoded data removed]",
      "text/plain": [
       "<Figure size 1800x600 with 1 Axes>"
      ]
     },
     "metadata": {},
     "output_type": "display_data"
    }
   ],
   "source": [
    "fig, ax = plt.subplots(figsize=(18,6), layout='constrained')\n",
    "\n",
    "for acc, dt, name in zip((dfA2['Acc'].to_numpy(), AccA3.copy()), (dtA2, dtA3), ('Scalato', 'Processed')):\n",
    "    acc /= 100. # cm/s² -> m/s²\n",
    "    rsd = RScalc(acc, dt, ww, zn)[:, 0] * 100. # m -> cm\n",
    "    rsa = rsd * ww ** 2 # cm/s²\n",
    "    ax.plot(TT, rsa, label=name)\n",
    "\n",
    "ax.set_title('Response spectra')\n",
    "ax.set_xlabel('Period (s)')\n",
    "ax.set_ylabel('Pseudo-acceleration (cm/s²)')\n",
    "ax.legend(loc='upper right')\n",
    "ax.grid(visible=True)"
   ]
  },
  {
   "cell_type": "markdown",
   "metadata": {},
   "source": [
    "Export data"
   ]
  },
  {
   "cell_type": "code",
   "execution_count": 6,
   "metadata": {},
   "outputs": [
    {
     "ename": "NameError",
     "evalue": "name 'VelA3' is not defined",
     "output_type": "error",
     "traceback": [
      "\u001b[1;31m---------------------------------------------------------------------------\u001b[0m",
      "\u001b[1;31mNameError\u001b[0m                                 Traceback (most recent call last)",
      "Cell \u001b[1;32mIn[6], line 1\u001b[0m\n\u001b[1;32m----> 1\u001b[0m dfA3 \u001b[38;5;241m=\u001b[39m pd\u001b[38;5;241m.\u001b[39mDataFrame(data\u001b[38;5;241m=\u001b[39m(SpoA3, VelA3, AccA3), index\u001b[38;5;241m=\u001b[39m(\u001b[38;5;124m'\u001b[39m\u001b[38;5;124mSpo (cm)\u001b[39m\u001b[38;5;124m'\u001b[39m, \u001b[38;5;124m'\u001b[39m\u001b[38;5;124mVel (cm/s)\u001b[39m\u001b[38;5;124m'\u001b[39m, \u001b[38;5;124m'\u001b[39m\u001b[38;5;124mAcc (cm/s²)\u001b[39m\u001b[38;5;124m'\u001b[39m), columns\u001b[38;5;241m=\u001b[39mttA3)\u001b[38;5;241m.\u001b[39mT\n\u001b[0;32m      2\u001b[0m dfA3\u001b[38;5;241m.\u001b[39mindex\u001b[38;5;241m.\u001b[39mname \u001b[38;5;241m=\u001b[39m \u001b[38;5;124m'\u001b[39m\u001b[38;5;124mTime (s)\u001b[39m\u001b[38;5;124m'\u001b[39m\n\u001b[0;32m      3\u001b[0m dfA3RS \u001b[38;5;241m=\u001b[39m pd\u001b[38;5;241m.\u001b[39mDataFrame(data\u001b[38;5;241m=\u001b[39mrsa, index\u001b[38;5;241m=\u001b[39mTT, columns\u001b[38;5;241m=\u001b[39m(\u001b[38;5;124m'\u001b[39m\u001b[38;5;124mAcc (cm/s²)\u001b[39m\u001b[38;5;124m'\u001b[39m,))\n",
      "\u001b[1;31mNameError\u001b[0m: name 'VelA3' is not defined"
     ]
    }
   ],
   "source": [
    "dfA3 = pd.DataFrame(data=(SpoA3, VelA3, AccA3), index=('Spo (cm)', 'Vel (cm/s)', 'Acc (cm/s²)'), columns=ttA3).T\n",
    "dfA3.index.name = 'Time (s)'\n",
    "dfA3RS = pd.DataFrame(data=rsa, index=TT, columns=('Acc (cm/s²)',))\n",
    "dfA3RS.index.name = 'Time (s)'\n",
    "\n",
    "with pd.ExcelWriter(\"L'AQUILA-IT.AVZ.00.HNN.D.IT-2009_LNEC3D.xlsx\") as writer:\n",
    "    dfA3.to_excel(writer, sheet_name='Time series', index=True)\n",
    "    dfA3RS.to_excel(writer, sheet_name='Response spectrum', index=True)\n",
    "\n",
    "# LTF file\n",
    "ltfA = LTFdb()\n",
    "ltfA.update(AQTD=['AQTD'],\n",
    "            stage=[\"L'AQUILA-IT.AVZ.00.HNN.D.IT-2009 seismic record, scale factor 2/3, Cauchy+Froude similitude law\"],\n",
    "            obs=['ERIES RE-Safe project'],\n",
    "            date=[str(datetime.datetime.now())],\n",
    "            t0=np.repeat(ltfA.t0, 3),\n",
    "            dt=np.repeat(ltfA.dt*0.005, 3),\n",
    "            dataformat=np.repeat(ltfA.dataformat, 3),\n",
    "            IDstring=ltfA.IDstring*3,\n",
    "            scalefactor=np.repeat(ltfA.scalefactor, 3),\n",
    "            offset=np.repeat(ltfA.offset, 3),\n",
    "            data=np.vstack((SpoA3*10., VelA3, AccA3/100./constants.g)),\n",
    "            names=['DispT', 'VelT', 'AccT'],\n",
    "            units=['mm', 'cm/s', 'g'],\n",
    "            types=['Displacement', 'Velocity', 'Acceleration'],\n",
    "            info=[f'PGD={maxabs(SpoA3*10.):.0f}mm', f'PGV={maxabs(VelA3):.2f}cm/s', f'PGA={maxabs(AccA3/100./constants.g):.3f}g'],\n",
    "            )\n",
    "ltfA.write('LAquilaReducedScale.ltf')\n",
    "\n",
    "# LNEC3D shake table target motion file\n",
    "tgtA = LTFdb()\n",
    "tgtA.update(AQTD=['AQTD'],\n",
    "            stage=[\"L'AQUILA-IT.AVZ.00.HNN.D.IT-2009 seismic record, scale factor 2/3, Cauchy+Froude similitude law\"],\n",
    "            obs=['ERIES RE-Safe project'],\n",
    "            date=[str(datetime.datetime.now())],\n",
    "            t0=np.repeat(tgtA.t0, 6),\n",
    "            dt=np.repeat(tgtA.dt*0.005, 6),\n",
    "            dataformat=np.repeat(tgtA.dataformat, 6),\n",
    "            IDstring=tgtA.IDstring*6,\n",
    "            scalefactor=np.repeat(tgtA.scalefactor, 6),\n",
    "            offset=np.repeat(tgtA.offset, 6),\n",
    "            data=np.vstack((SpoA3*10., SpoA3*0., SpoA3*0., AccA3/100./constants.g, AccA3*0., AccA3*0.)),\n",
    "            names=['DispT', 'DispL', 'DispV', 'AccT', 'AccL', 'AccV'],\n",
    "            units=['mm']*3 + ['g']*3,\n",
    "            types=['Displacement']*3 + ['Acceleration']*3,\n",
    "            info=tgtA.info*6,\n",
    "            )\n",
    "tgtA.write('LAquilaReducedScale.tgt')"
   ]
  },
  {
   "cell_type": "markdown",
   "metadata": {},
   "source": [
    "Check LNEC3D shake table target motion file"
   ]
  },
  {
   "cell_type": "code",
   "execution_count": 7,
   "metadata": {},
   "outputs": [
    {
     "name": "stdout",
     "output_type": "stream",
     "text": [
      "Filename: C:\\Users\\afons\\OneDrive - Universidade de Lisboa\\Controlo de Plataforma Sismica\\LNEC_Adapta_Driver\\LNEC_ERIES_RE-SAFE\\CTL\\Targets\\LAquilaReducedScale.tgt\n",
      "AQTD: ['AQTD']\n",
      "Stage: [\"L'AQUILA-IT.AVZ.00.HNN.D.IT-2009 seismic record, scale factor 2/3, Cauchy+Froude similitude law\"]\n",
      "Obs: ['ERIES RE-Safe project']\n",
      "Date: ['2024-09-06 12:13:12.934830']\n",
      "Signals: 6\n",
      "\n",
      "AQTD: ['AQTD']\n",
      "Stage: [\"L'AQUILA-IT.AVZ.00.HNN.D.IT-2009 seismic record, scale factor 2/3, Cauchy+Froude similitude law\"]\n",
      "Obs: ['ERIES RE-Safe project']\n",
      "Date: ['2024-09-06 12:13:12.934830']\n",
      "t0: [(0, 0) (0, 0) (0, 0) (0, 0) (0, 0) (0, 0)]\n",
      "dt: [0.005 0.005 0.005 0.005 0.005 0.005]\n",
      "Cluster: [(1.9440926740509248, 1.6826159119301773, array([5514, 5514, 5514, ..., 5514, 5514, 5514], dtype=int16)), (1.0, 0.0, array([0, 0, 0, ..., 0, 0, 0], dtype=int16)), (1.0, 0.0, array([0, 0, 0, ..., 0, 0, 0], dtype=int16)), (0.006608805059949585, 0.4583040592585605, array([1501, 1500, 1499, ..., 1493, 1495, 1499], dtype=int16)), (1.0, 0.0, array([0, 0, 0, ..., 0, 0, 0], dtype=int16)), (1.0, 0.0, array([0, 0, 0, ..., 0, 0, 0], dtype=int16))]\n",
      "Dataformat: [0 0 0 0 0 0]\n",
      "IDstring: ['IDstring', 'IDstring', 'IDstring', 'IDstring', 'IDstring', 'IDstring']\n",
      "Scalefactor: [1. 1. 1. 1. 1. 1.]\n",
      "Offset: [0. 0. 0. 0. 0. 0.]\n",
      "Names: ['DispT', 'DispL', 'DispV', 'AccT', 'AccL', 'AccV']\n",
      "Units: ['mm', 'mm', 'mm', 'g', 'g', 'g']\n",
      "Types: ['Displacement', 'Displacement', 'Displacement', 'Acceleration', 'Acceleration', 'Acceleration']\n",
      "Info: ['info', 'info', 'info', 'info', 'info', 'info']\n"
     ]
    }
   ],
   "source": [
    "tgtA = LTFdb()\n",
    "tgtA.read(r'C:\\Users\\afons\\OneDrive - Universidade de Lisboa\\Controlo de Plataforma Sismica\\LNEC_Adapta_Driver\\LNEC_ERIES_RE-SAFE\\CTL\\Targets\\LAquilaReducedScale.tgt')\n",
    "print(tgtA)\n",
    "print()\n",
    "tgtA.print_metadata()"
   ]
  },
  {
   "cell_type": "markdown",
   "metadata": {},
   "source": [
    "### TOLMEZZO\n",
    "\n",
    "Processed time series"
   ]
  },
  {
   "cell_type": "code",
   "execution_count": null,
   "metadata": {},
   "outputs": [],
   "source": [
    "ttT2 = dfT2.index\n",
    "dtT2 = ttT2[1] - ttT2[0]\n",
    "SpoT2 = dfT2['Spo'].to_numpy()\n",
    "\n",
    "sos = butter(8, 40.*np.sqrt(SF), output='sos', fs=1./dtT2)\n",
    "SpoT3 = sosfiltfilt(sos, SpoT2, padtype='even')\n",
    "\n",
    "SpoT3 *= tukey(SpoT3.size, alpha=0.1) # 10% Tukey window\n",
    "\n",
    "SpoT3, ttT3 = resample(SpoT3, int(ttT2.size*np.sqrt(SF)), ttT2)\n",
    "dtT3 = ttT3[1] - ttT3[0]\n",
    "print(dtT3) # before rounding\n",
    "\n",
    "dtT3 = np.round(dtT3, decimals=3)\n",
    "ttT3 = dtT3 * np.arange(ttT3.size)\n",
    "print(ttT2[-1], ttT3[-1], dtT3, ttT3.size) # after rounding\n",
    "\n",
    "VelT3 = FrequencyDomain.differentiate(SpoT3, dt=dtT3)\n",
    "AccT3 = FrequencyDomain.differentiate(VelT3, dt=dtT3)\n",
    "\n",
    "fig, ax = plt.subplots(nrows=3, sharex=True, figsize=(18,6), layout='constrained')\n",
    "ax[-1].set_xlabel('Time (s)')\n",
    "\n",
    "for axis, column, ts, units in zip(ax, ('Spo', 'Vel', 'Acc'), (SpoT3, VelT3, AccT3), ('cm', 'cm/s', 'cm/s²')):\n",
    "    axis.plot(dfT2[column], label=f'Scalato (peak={maxabs(dfT2[column]):.1f}{units})')\n",
    "    axis.plot(ttT3, ts, label=f'Processed (peak={maxabs(ts):.1f}{units})')\n",
    "    axis.set_ylabel(f'{column} ({units})')\n",
    "    axis.legend(loc='upper right')\n",
    "    axis.grid(visible=True)\n"
   ]
  },
  {
   "cell_type": "markdown",
   "metadata": {},
   "source": [
    "Power spectral density"
   ]
  },
  {
   "cell_type": "code",
   "execution_count": null,
   "metadata": {},
   "outputs": [],
   "source": [
    "fT2, PxxT2 = periodogram(dfT2['Acc'], fs=1./dtT2)\n",
    "fT3, PxxT3 = periodogram(AccT3, fs=1./dtT3)\n",
    "\n",
    "fig, ax = plt.subplots(figsize=(18,4), layout='constrained')\n",
    "ax.plot(fT2, dBpow(PxxT2), label='Scalato')\n",
    "ax.plot(fT3, dBpow(PxxT3), label='Processed')\n",
    "ax.set_xlabel('Frequency (Hz)')\n",
    "ax.set_ylabel('PSD (dB((cm/s²)²/Hz))')\n",
    "ax.set_ylim((-120., None))\n",
    "ax.legend(loc='upper right')\n",
    "ax.grid(visible=True)"
   ]
  },
  {
   "cell_type": "markdown",
   "metadata": {},
   "source": [
    "Response spectra"
   ]
  },
  {
   "cell_type": "code",
   "execution_count": null,
   "metadata": {},
   "outputs": [],
   "source": [
    "fig, ax = plt.subplots(figsize=(18,6), layout='constrained')\n",
    "\n",
    "for acc, dt, name in zip((dfT2['Acc'].to_numpy(), AccT3.copy()), (dtT2, dtT3), ('Scalato', 'Processed')):\n",
    "    acc /= 100. # cm/s² -> m/s²\n",
    "    rsd = RScalc(acc, dt, ww, zn)[:, 0] * 100. # m -> cm\n",
    "    rsa = rsd * ww ** 2 # cm/s²\n",
    "    ax.plot(TT, rsa, label=name)\n",
    "\n",
    "ax.set_title('Response spectra')\n",
    "ax.set_xlabel('Period (s)')\n",
    "ax.set_ylabel('Pseudo-acceleration (cm/s²)')\n",
    "ax.legend(loc='upper right')\n",
    "ax.grid(visible=True)"
   ]
  },
  {
   "cell_type": "markdown",
   "metadata": {},
   "source": [
    "Export data"
   ]
  },
  {
   "cell_type": "code",
   "execution_count": null,
   "metadata": {},
   "outputs": [],
   "source": [
    "dfT3 = pd.DataFrame(data=(SpoT3, VelT3, AccT3), index=('Spo (cm)', 'Vel (cm/s)', 'Acc (cm/s²)'), columns=ttT3).T\n",
    "dfT3.index.name = 'Time (s)'\n",
    "dfT3RS = pd.DataFrame(data=rsa, index=TT, columns=('Acc (cm/s²)',))\n",
    "dfT3RS.index.name = 'Time (s)'\n",
    "\n",
    "with pd.ExcelWriter('TOLMEZZO_LNEC3D.xlsx') as writer:\n",
    "    dfT3.to_excel(writer, sheet_name='Time series', index=True)\n",
    "    dfT3RS.to_excel(writer, sheet_name='Response spectrum', index=True)\n",
    "\n",
    "# LTF file\n",
    "ltfT = LTFdb()\n",
    "ltfT.update(AQTD=['AQTD'],\n",
    "            stage=[\"L'AQUILA-IT.AVZ.00.HNN.D.IT-2009 seismic record, scale factor 2/3, Cauchy+Froude similitude law\"],\n",
    "            obs=['ERIES RE-Safe project'],\n",
    "            date=[str(datetime.datetime.now())],\n",
    "            t0=np.repeat(ltfT.t0, 3),\n",
    "            dt=np.repeat(ltfT.dt*0.005, 3),\n",
    "            dataformat=np.repeat(ltfT.dataformat, 3),\n",
    "            IDstring=ltfT.IDstring*3,\n",
    "            scalefactor=np.repeat(ltfT.scalefactor, 3),\n",
    "            offset=np.repeat(ltfT.offset, 3),\n",
    "            data=np.vstack((SpoT3*10., VelT3, AccT3/100./constants.g)),\n",
    "            names=['DispT', 'VelT', 'AccT'],\n",
    "            units=['mm', 'cm/s', 'g'],\n",
    "            types=['Displacement', 'Velocity', 'Acceleration'],\n",
    "            info=[f'PGD={maxabs(SpoT3*10.):.0f}mm', f'PGV={maxabs(VelT3):.1f}cm/s', f'PGA={maxabs(AccT3/100./constants.g):.3f}g'],\n",
    "            )\n",
    "ltfT.write('TolmezzoReducedScale.ltf')\n",
    "\n",
    "# LNEC3D shake table target motion file\n",
    "tgtT = LTFdb()\n",
    "tgtT.update(AQTD=['AQTD'],\n",
    "            stage=['Tolmezzo seismic record, scale factor 2/3, Cauchy+Froude similitude law'],\n",
    "            obs=['ERIES RE-Safe project'],\n",
    "            date=[str(datetime.datetime.now())],\n",
    "            t0=np.repeat(tgtT.t0, 6),\n",
    "            dt=np.repeat(tgtT.dt*0.005, 6),\n",
    "            dataformat=np.repeat(tgtT.dataformat, 6),\n",
    "            IDstring=tgtT.IDstring*6,\n",
    "            scalefactor=np.repeat(tgtT.scalefactor, 6),\n",
    "            offset=np.repeat(tgtT.offset, 6),\n",
    "            data=np.vstack((SpoT3*10., SpoT3*0., SpoT3*0., AccT3/100./constants.g, AccT3*0., AccT3*0.)),\n",
    "            names=['DispT', 'DispL', 'DispV', 'AccT', 'AccL', 'AccV'],\n",
    "            units=['mm']*3 + ['g']*3,\n",
    "            types=['Displacement']*3 + ['Acceleration']*3,\n",
    "            info=tgtT.info*6,\n",
    "            )\n",
    "tgtT.write('TolmezzoReducedScale.tgt')"
   ]
  },
  {
   "cell_type": "markdown",
   "metadata": {},
   "source": [
    "Check LNEC3D shake table target motion file"
   ]
  },
  {
   "cell_type": "code",
   "execution_count": null,
   "metadata": {},
   "outputs": [],
   "source": [
    "tgtT = LTFdb()\n",
    "tgtT.read('TolmezzoReducedScale.tgt')\n",
    "print(tgtT)\n",
    "print()\n",
    "tgtT.print_metadata()"
   ]
  },
  {
   "attachments": {},
   "cell_type": "markdown",
   "metadata": {},
   "source": [
    "This [Jupyter Notebook](https://jupyter.org/) developed in [Python](https://www.python.org/) was created by [Paulo Xavier Candeias](https://www.lnec.pt/estruturas/en/team/paulo-xavier-candeias/) at [LNEC](https://www.lnec.pt/en/). Licensed under [GPLv3](https://www.gnu.org/licenses/gpl-3.0.en.html) and [CC-BY-SA](https://creativecommons.org/licenses/by-sa/4.0/):\n",
    "\n",
    "<a rel=\"license\" href=\"https://www.gnu.org/licenses/gpl-3.0.en.html\"><img alt=\"GNU General Public License\" style=\"border-width:0\" src=\"https://www.gnu.org/graphics/gplv3-or-later.png\" /></a><br />This work is licensed under a <a rel=\"license\" href=\"https://www.gnu.org/licenses/gpl-3.0.en.html\">GNU General Public License v3 or later</a>.\n",
    "\n",
    "<a rel=\"license\" href=\"http://creativecommons.org/licenses/by-sa/4.0/\"><img alt=\"Creative Commons License\" style=\"border-width:0\" src=\"https://i.creativecommons.org/l/by-sa/4.0/88x31.png\" /></a><br />This work is licensed under a <a rel=\"license\" href=\"http://creativecommons.org/licenses/by-sa/4.0/\">Creative Commons Attribution-ShareAlike 4.0 International License</a>."
   ]
  }
 ],
 "metadata": {
  "kernelspec": {
   "display_name": "base",
   "language": "python",
   "name": "python3"
  },
  "language_info": {
   "codemirror_mode": {
    "name": "ipython",
    "version": 3
   },
   "file_extension": ".py",
   "mimetype": "text/x-python",
   "name": "python",
   "nbconvert_exporter": "python",
   "pygments_lexer": "ipython3",
   "version": "3.11.5"
  },
  "orig_nbformat": 4,
  "vscode": {
   "interpreter": {
    "hash": "f48b24ca315487c062b8b23042ff6a0ae2476b1452409cf5c7326ae21be24bfc"
   }
  }
 },
 "nbformat": 4,
 "nbformat_minor": 2
}
