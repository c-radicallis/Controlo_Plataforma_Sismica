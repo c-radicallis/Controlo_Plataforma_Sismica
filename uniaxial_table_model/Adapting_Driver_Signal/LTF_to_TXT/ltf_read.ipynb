{
 "cells": [
  {
   "cell_type": "code",
   "execution_count": 28,
   "id": "e6b766bf",
   "metadata": {},
   "outputs": [],
   "source": [
    "from pathlib import Path\n",
    "import sys\n",
    "if (ppfolder := str(Path('..') / 'personal_python_packages')) not in sys.path:\n",
    "    sys.path.append(ppfolder)\n",
    "\n",
    "from LNECSPA import LTFdb\n",
    "\n",
    "import numpy as np"
   ]
  },
  {
   "cell_type": "code",
   "execution_count": 29,
   "id": "ffb109a5",
   "metadata": {},
   "outputs": [],
   "source": [
    "tgtA = LTFdb()"
   ]
  },
  {
   "cell_type": "code",
   "execution_count": 30,
   "id": "86489d66",
   "metadata": {},
   "outputs": [
    {
     "data": {
      "text/plain": [
       "<LNECSPA.LTFdb at 0x1af69b45150>"
      ]
     },
     "execution_count": 30,
     "metadata": {},
     "output_type": "execute_result"
    }
   ],
   "source": [
    "file_path = r'C:\\Users\\afons\\OneDrive - Universidade de Lisboa\\Controlo de Plataforma Sismica\\LNEC_Adapta_Driver\\LNEC_ERIES_RE-SAFE\\CTL\\TestLAquila\\LAquilaReducedScale.tgt'\n",
    "tgtA.read(file_path)"
   ]
  },
  {
   "cell_type": "code",
   "execution_count": 31,
   "id": "dcdfbb6a",
   "metadata": {},
   "outputs": [
    {
     "name": "stdout",
     "output_type": "stream",
     "text": [
      "Filename: C:\\Users\\afons\\OneDrive - Universidade de Lisboa\\Controlo de Plataforma Sismica\\LNEC_Adapta_Driver\\LNEC_ERIES_RE-SAFE\\CTL\\TestLAquila\\LAquilaReducedScale.tgt\n",
      "AQTD: ['AQTD']\n",
      "Stage: [\"L'AQUILA-IT.AVZ.00.HNN.D.IT-2009 seismic record, scale factor 2/3, Cauchy+Froude similitude law\"]\n",
      "Obs: ['ERIES RE-Safe project']\n",
      "Date: ['2024-07-19 12:18:26.272293']\n",
      "Signals: 6\n"
     ]
    }
   ],
   "source": [
    "print(tgtA)"
   ]
  },
  {
   "cell_type": "code",
   "execution_count": 32,
   "id": "0d0d359d",
   "metadata": {},
   "outputs": [
    {
     "name": "stdout",
     "output_type": "stream",
     "text": [
      "AQTD: ['AQTD']\n",
      "Stage: [\"L'AQUILA-IT.AVZ.00.HNN.D.IT-2009 seismic record, scale factor 2/3, Cauchy+Froude similitude law\"]\n",
      "Obs: ['ERIES RE-Safe project']\n",
      "Date: ['2024-07-19 12:18:26.272293']\n",
      "t0: [(0, 0) (0, 0) (0, 0) (0, 0) (0, 0) (0, 0)]\n",
      "dt: [0.005 0.005 0.005 0.005 0.005 0.005]\n",
      "Cluster: [(1.9440926740509248, 1.6826159119301773, array([5514, 5514, 5514, ..., 5514, 5514, 5514], dtype=int16)), (1.0, 0.0, array([0, 0, 0, ..., 0, 0, 0], dtype=int16)), (1.0, 0.0, array([0, 0, 0, ..., 0, 0, 0], dtype=int16)), (0.006608805059949585, 0.4583040592585605, array([1501, 1500, 1499, ..., 1493, 1495, 1499], dtype=int16)), (1.0, 0.0, array([0, 0, 0, ..., 0, 0, 0], dtype=int16)), (1.0, 0.0, array([0, 0, 0, ..., 0, 0, 0], dtype=int16))]\n",
      "Dataformat: [0 0 0 0 0 0]\n",
      "IDstring: ['IDstring', 'IDstring', 'IDstring', 'IDstring', 'IDstring', 'IDstring']\n",
      "Scalefactor: [1. 1. 1. 1. 1. 1.]\n",
      "Offset: [0. 0. 0. 0. 0. 0.]\n",
      "Names: ['DispT', 'DispL', 'DispV', 'AccT', 'AccL', 'AccV']\n",
      "Units: ['mm', 'mm', 'mm', 'g', 'g', 'g']\n",
      "Types: ['Displacement', 'Displacement', 'Displacement', 'Acceleration', 'Acceleration', 'Acceleration']\n",
      "Info: ['info', 'info', 'info', 'info', 'info', 'info']\n"
     ]
    }
   ],
   "source": [
    "tgtA.print_metadata()"
   ]
  },
  {
   "cell_type": "code",
   "execution_count": 52,
   "id": "c4236cd4",
   "metadata": {},
   "outputs": [
    {
     "name": "stdout",
     "output_type": "stream",
     "text": [
      "2\n",
      "(6, 8982)\n"
     ]
    },
    {
     "data": {
      "text/plain": [
       "[array([0.0002398, 0.0002398, 0.0002398, ..., 0.0002398, 0.0002398,\n",
       "        0.0002398]),\n",
       " array([0., 0., 0., ..., 0., 0., 0.]),\n",
       " array([0., 0., 0., ..., 0., 0., 0.]),\n",
       " array([-1.55446763e-06, -3.57131487e-06, -5.58816212e-06, ...,\n",
       "        -1.76892456e-05, -1.36555511e-05, -5.58816212e-06]),\n",
       " array([0., 0., 0., ..., 0., 0., 0.]),\n",
       " array([0., 0., 0., ..., 0., 0., 0.])]"
      ]
     },
     "execution_count": 52,
     "metadata": {},
     "output_type": "execute_result"
    }
   ],
   "source": [
    "\"\"\"_data : list of ndarray\n",
    "    Analog data as list of 1D `ndarray`.\"\"\"\n",
    "data_ = tgtA._data\n",
    "print(np.ndim(data_))\n",
    "print(np.shape(data_))\n",
    "data_"
   ]
  },
  {
   "cell_type": "code",
   "execution_count": 51,
   "id": "05f389dd",
   "metadata": {},
   "outputs": [
    {
     "name": "stdout",
     "output_type": "stream",
     "text": [
      "2\n",
      "(6, 8982)\n"
     ]
    },
    {
     "data": {
      "text/plain": [
       "array([[ 2.39795826e-04,  2.39795826e-04,  2.39795826e-04, ...,\n",
       "         2.39795826e-04,  2.39795826e-04,  2.39795826e-04],\n",
       "       [ 0.00000000e+00,  0.00000000e+00,  0.00000000e+00, ...,\n",
       "         0.00000000e+00,  0.00000000e+00,  0.00000000e+00],\n",
       "       [ 0.00000000e+00,  0.00000000e+00,  0.00000000e+00, ...,\n",
       "         0.00000000e+00,  0.00000000e+00,  0.00000000e+00],\n",
       "       [-1.55446763e-06, -3.57131487e-06, -5.58816212e-06, ...,\n",
       "        -1.76892456e-05, -1.36555511e-05, -5.58816212e-06],\n",
       "       [ 0.00000000e+00,  0.00000000e+00,  0.00000000e+00, ...,\n",
       "         0.00000000e+00,  0.00000000e+00,  0.00000000e+00],\n",
       "       [ 0.00000000e+00,  0.00000000e+00,  0.00000000e+00, ...,\n",
       "         0.00000000e+00,  0.00000000e+00,  0.00000000e+00]])"
      ]
     },
     "execution_count": 51,
     "metadata": {},
     "output_type": "execute_result"
    }
   ],
   "source": [
    "\"\"\"     data : ndarray\n",
    "        Analog data as 2D `ndarray`. Deprecation warning: to be replaced by `_data`! \"\"\"\n",
    "data = tgtA.data\n",
    "print(np.ndim(data))\n",
    "print(np.shape(data))\n",
    "data"
   ]
  },
  {
   "cell_type": "code",
   "execution_count": 69,
   "id": "01ef9d5d",
   "metadata": {},
   "outputs": [
    {
     "name": "stdout",
     "output_type": "stream",
     "text": [
      "np.shape(data_[0]) = (8982,)\n",
      "np.shape(data_[1]) = (8982,)\n",
      "np.shape(data_[2]) = (8982,)\n",
      "np.shape(data_[3]) = (8982,)\n",
      "np.shape(data_[4]) = (8982,)\n",
      "np.shape(data_[5]) = (8982,)\n"
     ]
    }
   ],
   "source": [
    "for i in range(6):\n",
    "    print(\"np.shape(data_[\"+str(i)+\"]) = \"+str(np.shape(data[i])))"
   ]
  }
 ],
 "metadata": {
  "kernelspec": {
   "display_name": "base",
   "language": "python",
   "name": "python3"
  },
  "language_info": {
   "codemirror_mode": {
    "name": "ipython",
    "version": 3
   },
   "file_extension": ".py",
   "mimetype": "text/x-python",
   "name": "python",
   "nbconvert_exporter": "python",
   "pygments_lexer": "ipython3",
   "version": "3.11.5"
  }
 },
 "nbformat": 4,
 "nbformat_minor": 5
}
