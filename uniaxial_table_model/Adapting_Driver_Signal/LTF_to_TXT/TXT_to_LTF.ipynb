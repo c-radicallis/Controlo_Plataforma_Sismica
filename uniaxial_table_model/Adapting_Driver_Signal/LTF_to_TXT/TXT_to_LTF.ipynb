{
 "cells": [
  {
   "cell_type": "code",
   "execution_count": 1,
   "id": "feb837b0",
   "metadata": {},
   "outputs": [],
   "source": [
    "# Python standard library\n",
    "import os\n",
    "import sys\n",
    "import datetime\n",
    "\n",
    "from pathlib import Path\n",
    "# pxc modules\n",
    "if (ppfolder := str(Path('..') / 'personal_python_packages')) not in sys.path:\n",
    "    sys.path.append(ppfolder)\n",
    "\n",
    "import numpy as np\n",
    "from pathlib import Path\n",
    "from scipy.constants import g\n",
    "from utilities import maxabs\n",
    "\n",
    "from LNECSPA import LTFdb\n",
    "\n",
    "import pandas as pd\n",
    "\n",
    "def txt_to_ltf(file_path , out_dir):\n",
    "    df = pd.read_csv(file_path, delim_whitespace=True)\n",
    "    time = df['time']\n",
    "    PosT = df['PosT']\n",
    "    PosL = df['PosL']\n",
    "    PosV = df['PosV']\n",
    "    accT = df['accT']\n",
    "    accL = df['accL']\n",
    "    accV = df['accV']\n",
    "    number_columns = len(df.columns)-1\n",
    "    ltfA = LTFdb()\n",
    "\n",
    "    ltfA.update(t0=np.repeat(ltfA.t0, number_columns),\n",
    "                dt=np.repeat(ltfA.dt*time[1], number_columns),\n",
    "                dataformat=np.repeat(ltfA.dataformat, number_columns),\n",
    "                IDstring=ltfA.IDstring*number_columns,\n",
    "                scalefactor=np.repeat(ltfA.scalefactor, number_columns),\n",
    "                offset=np.repeat(ltfA.offset, number_columns),\n",
    "                data = [PosT, PosL, PosV, accT, accL, accV], \n",
    "                names=['DispT', 'DispL', 'DispV', 'AccT', 'AccL', 'AccV'],\n",
    "                units=['m','m','m', 'm/s^2','m/s^2','m/s^2'],\n",
    "                types=['Displacement','Displacement','Displacement', 'Acceleration','Acceleration','Acceleration'],\n",
    "                info=ltfA.info*6)\n",
    "    # Make sure output directory exists\n",
    "    out_dir = Path(out_dir)\n",
    "    out_dir.mkdir(parents=True, exist_ok=True)\n",
    "    # Determine output filename\n",
    "    file_path = Path(file_path)\n",
    "    filename = file_path.name + \".acq\"\n",
    "    output_path = out_dir / filename\n",
    "    # Write the .ltf file into the specified folder\n",
    "    ltfA.write(str(output_path))"
   ]
  },
  {
   "cell_type": "code",
   "execution_count": null,
   "id": "fb183da4",
   "metadata": {},
   "outputs": [],
   "source": [
    "file_path = r'C:\\Users\\afons\\OneDrive - Universidade de Lisboa\\Controlo de Plataforma Sismica\\uniaxial_table_model\\Adapting_Driver_Signal\\PRJ_project\\pink_noise_40Hz_T3mm_acq.txt'\n",
    "output_folder = r'C:\\Users\\afons\\OneDrive - Universidade de Lisboa\\Controlo de Plataforma Sismica\\uniaxial_table_model\\Adapting_Driver_Signal\\PRJ_project'  "
   ]
  },
  {
   "cell_type": "code",
   "execution_count": 3,
   "id": "4cbbd1f5",
   "metadata": {},
   "outputs": [],
   "source": [
    "txt_to_ltf(file_path, output_folder)"
   ]
  }
 ],
 "metadata": {
  "kernelspec": {
   "display_name": "base",
   "language": "python",
   "name": "python3"
  },
  "language_info": {
   "codemirror_mode": {
    "name": "ipython",
    "version": 3
   },
   "file_extension": ".py",
   "mimetype": "text/x-python",
   "name": "python",
   "nbconvert_exporter": "python",
   "pygments_lexer": "ipython3",
   "version": "3.11.5"
  }
 },
 "nbformat": 4,
 "nbformat_minor": 5
}
