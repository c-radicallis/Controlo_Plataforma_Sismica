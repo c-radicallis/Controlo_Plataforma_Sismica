{
 "cells": [
  {
   "cell_type": "code",
   "execution_count": null,
   "metadata": {},
   "outputs": [],
   "source": [
    "file_path = r'C:\\Users\\afons\\OneDrive - Universidade de Lisboa\\Controlo de Plataforma Sismica\\uniaxial_table_model\\Adapting_Driver_Signal\\PRJ_project\\LAquilaReducedScale.tgt'\n",
    "output_folder = r'C:\\Users\\afons\\OneDrive - Universidade de Lisboa\\Controlo de Plataforma Sismica\\uniaxial_table_model\\Adapting_Driver_Signal\\SI_conversion_validation'\n",
    "\n",
    "file_path = Path(file_path)\n",
    "tgtA = LTFdb()\n",
    "tgtA.read(file_path)\n",
    "\n",
    "# Make sure output directory exists\n",
    "out_dir = Path(output_folder)\n",
    "out_dir.mkdir(parents=True, exist_ok=True)\n",
    "\n",
    "# Determine output filename\n",
    "file_path = Path(file_path)\n",
    "filename = file_path.name + \"SimpleFunc.txt\"\n",
    "output_path = out_dir / filename\n",
    "\n",
    "# Write the .ltf file into the specified folder\n",
    "tgtA.write_txt(str(output_path))\n",
    "\n",
    "tgtA.write_txt(str(output_path))"
   ]
  },
  {
   "cell_type": "code",
   "execution_count": null,
   "metadata": {},
   "outputs": [],
   "source": [
    "# Python standard library\n",
    "import os\n",
    "import sys\n",
    "import datetime\n",
    "\n",
    "from pathlib import Path\n",
    "# pxc modules\n",
    "if (ppfolder := str(Path('..') / 'personal_python_packages')) not in sys.path:\n",
    "    sys.path.append(ppfolder)\n",
    "\n",
    "import numpy as np\n",
    "from scipy.constants import g\n",
    "\n",
    "from utilities import maxabs\n",
    "from LNECSPA import LTFdb\n",
    "\n",
    "def ltf_to_txt(file_path):\n",
    "    file_path = Path(file_path)\n",
    "    tgtA = LTFdb()\n",
    "    tgtA.read(file_path)\n",
    "\n",
    "    # 1. Identify channel indices\n",
    "    disp_inds = [i for i, unit in enumerate(tgtA.units) if unit.lower() in ('mm', 'm')]\n",
    "    acc_inds  = [i for i, typ  in enumerate(tgtA.types) if typ.lower() == 'acceleration']\n",
    "\n",
    "    # 2. Build time vector\n",
    "    dt     = float(tgtA.dt[0])\n",
    "    n_pts  = tgtA.data.shape[1]\n",
    "    time_s = np.arange(n_pts) * dt\n",
    "\n",
    "    # 3. Convert to SI\n",
    "    # Displacement channels\n",
    "    disp_si = tgtA.data[disp_inds].astype(float)\n",
    "    for idx, ch in enumerate(disp_inds):\n",
    "        if tgtA.units[ch].lower() == 'mm':\n",
    "            disp_si[idx] *= 1e-3\n",
    "\n",
    "    # Acceleration channels\n",
    "    acc_si = tgtA.data[acc_inds].astype(float)\n",
    "    for idx, ch in enumerate(acc_inds):\n",
    "        if tgtA.units[ch].lower() == 'g':\n",
    "            acc_si[idx] *= g\n",
    "\n",
    "    # Print min/max for each channel\n",
    "    print(\"Displacement channels (SI units):\")\n",
    "    for idx, ch in enumerate(disp_inds):\n",
    "        name = tgtA.names[ch]\n",
    "        arr = disp_si[idx]\n",
    "        print(f\"  {name}: min = {arr.min():.6e}, max = {arr.max():.6e}\")\n",
    "\n",
    "    print(\"Acceleration channels (m/s^2):\")\n",
    "    for idx, ch in enumerate(acc_inds):\n",
    "        name = tgtA.names[ch]\n",
    "        arr = acc_si[idx]\n",
    "        print(f\"  {name}: min = {arr.min():.6e}, max = {arr.max():.6e}\")\n",
    "\n",
    "    # 4. Stack columns: time | displacements | accelerations\n",
    "    out_arr = np.vstack((time_s, disp_si, acc_si)).T\n",
    "\n",
    "    # 5. Remove columns that are entirely zero\n",
    "    mask = ~np.all(np.isclose(out_arr, 0.0), axis=0)\n",
    "    out_arr = out_arr[:, mask]\n",
    "\n",
    "    # 6. Prepare headers aligned with filtered columns\n",
    "    header_cols = ['time_s'] + \\\n",
    "        [f\"{tgtA.names[i]}_m\" for i in disp_inds] + \\\n",
    "        [f\"{tgtA.names[i]}_m_per_s2\" for i in acc_inds]\n",
    "    header_cols = [h for h, m in zip(header_cols, mask) if m]\n",
    "\n",
    "    # 7. Export using tabs as separator, full precision (default)\n",
    "    ext = file_path.suffix.lstrip('.')\n",
    "    out_name = f\"{file_path.stem}_{ext}.txt\"\n",
    "    out_path = Path.cwd() / out_name\n",
    "\n",
    "    header_line = '\\t'.join(header_cols)\n",
    "    np.savetxt(\n",
    "        out_path,\n",
    "        out_arr,\n",
    "        delimiter='\\t',\n",
    "        header=header_line,\n",
    "        comments=''\n",
    "    )#fmt='%.18e',  # high precision scientific format\n",
    "\n",
    "    print(f\"Exported {out_arr.shape[0]} samples and {out_arr.shape[1]} columns to '{out_path}'.\")\n",
    "\n"
   ]
  },
  {
   "cell_type": "code",
   "execution_count": 13,
   "metadata": {},
   "outputs": [
    {
     "name": "stdout",
     "output_type": "stream",
     "text": [
      "Displacement channels (SI units):\n",
      "  DispT: min = -2.271209e-02, max = 1.616917e-02\n",
      "  DispL: min = 0.000000e+00, max = 0.000000e+00\n",
      "  DispV: min = 0.000000e+00, max = 0.000000e+00\n",
      "Acceleration channels (m/s^2):\n",
      "  AccT: min = -6.778052e-01, max = 6.183798e-01\n",
      "  AccL: min = 0.000000e+00, max = 0.000000e+00\n",
      "  AccV: min = 0.000000e+00, max = 0.000000e+00\n",
      "Exported 8982 samples and 3 columns to 'c:\\Users\\afons\\OneDrive - Universidade de Lisboa\\Controlo de Plataforma Sismica\\uniaxial_table_model\\Adapting_Driver_Signal\\LTF_to_TXT\\LAquilaReducedScale_tgt.txt'.\n"
     ]
    }
   ],
   "source": [
    "file_path = r'C:\\Users\\afons\\OneDrive - Universidade de Lisboa\\Controlo de Plataforma Sismica\\LNEC_Adapta_Driver\\LNEC_ERIES_RE-SAFE\\CTL\\TestLAquila\\LAquilaReducedScale.tgt'\n",
    "\n",
    "ltf_to_txt(file_path)"
   ]
  },
  {
   "cell_type": "code",
   "execution_count": 14,
   "metadata": {},
   "outputs": [
    {
     "name": "stdout",
     "output_type": "stream",
     "text": [
      "Displacement channels (SI units):\n",
      "  DispT: min = -1.359835e-01, max = 9.814143e-02\n",
      "  DispL: min = 0.000000e+00, max = 0.000000e+00\n",
      "  DispV: min = 0.000000e+00, max = 0.000000e+00\n",
      "Acceleration channels (m/s^2):\n",
      "Exported 8982 samples and 2 columns to 'c:\\Users\\afons\\OneDrive - Universidade de Lisboa\\Controlo de Plataforma Sismica\\uniaxial_table_model\\Adapting_Driver_Signal\\LTF_to_TXT\\LAquilaReducedScale_34_DRV.txt'.\n"
     ]
    }
   ],
   "source": [
    "file_path = r'C:\\Users\\afons\\OneDrive - Universidade de Lisboa\\Controlo de Plataforma Sismica\\LNEC_Adapta_Driver\\LNEC_ERIES_RE-SAFE\\CTL\\TestLAquila\\2024-09-11\\LAquilaReducedScale_34.DRV'\n",
    "ltf_to_txt(file_path)"
   ]
  },
  {
   "cell_type": "code",
   "execution_count": 15,
   "metadata": {},
   "outputs": [
    {
     "name": "stdout",
     "output_type": "stream",
     "text": [
      "Displacement channels (SI units):\n",
      "  PosA1T: min = -1.442619e-01, max = 1.006543e-01\n",
      "  PosA2L: min = -3.200000e-05, max = 3.199902e-05\n",
      "  PosA3V: min = 1.385946e-03, max = 1.584014e-03\n",
      "Acceleration channels (m/s^2):\n",
      "Exported 8982 samples and 4 columns to 'c:\\Users\\afons\\OneDrive - Universidade de Lisboa\\Controlo de Plataforma Sismica\\uniaxial_table_model\\Adapting_Driver_Signal\\LTF_to_TXT\\LAquilaReducedScale_34_acq.txt'.\n"
     ]
    }
   ],
   "source": [
    "file_path = r'C:\\Users\\afons\\OneDrive - Universidade de Lisboa\\Controlo de Plataforma Sismica\\LNEC_Adapta_Driver\\LNEC_ERIES_RE-SAFE\\CTL\\TestLAquila\\2024-09-11\\LAquilaReducedScale_34.acq'\n",
    "ltf_to_txt(file_path)"
   ]
  },
  {
   "cell_type": "code",
   "execution_count": 16,
   "metadata": {},
   "outputs": [],
   "source": [
    "# file_path = r'C:\\Users\\afons\\OneDrive - Universidade de Lisboa\\Controlo de Plataforma Sismica\\LNEC_Adapta_Driver\\LNEC_ERIES_RE-SAFE\\CTL\\TestLAquila\\2024-09-11\\LAquilaReducedScale_34_mon.acq'\n",
    "# ltf_to_txt(file_path)"
   ]
  }
 ],
 "metadata": {
  "kernelspec": {
   "display_name": "base",
   "language": "python",
   "name": "python3"
  },
  "language_info": {
   "codemirror_mode": {
    "name": "ipython",
    "version": 3
   },
   "file_extension": ".py",
   "mimetype": "text/x-python",
   "name": "python",
   "nbconvert_exporter": "python",
   "pygments_lexer": "ipython3",
   "version": "3.11.5"
  },
  "orig_nbformat": 4,
  "vscode": {
   "interpreter": {
    "hash": "f48b24ca315487c062b8b23042ff6a0ae2476b1452409cf5c7326ae21be24bfc"
   }
  }
 },
 "nbformat": 4,
 "nbformat_minor": 2
}
