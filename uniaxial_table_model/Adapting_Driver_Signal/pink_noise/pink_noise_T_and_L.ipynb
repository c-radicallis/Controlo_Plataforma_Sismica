{
 "cells": [
  {
   "cell_type": "code",
   "execution_count": null,
   "id": "a9dd3d55",
   "metadata": {},
   "outputs": [
    {
     "data": {
      "text/plain": [
       "<LNECSPA.LTFdb at 0x1fc741f6010>"
      ]
     },
     "execution_count": 2,
     "metadata": {},
     "output_type": "execute_result"
    }
   ],
   "source": [
    "from pathlib import Path\n",
    "import sys\n",
    "import numpy as np\n",
    "from scipy.constants import g\n",
    "\n",
    "# Ensure personal Python packages are in path\n",
    "if (ppfolder := str(Path('..') / 'personal_python_packages')) not in sys.path:\n",
    "    sys.path.append(ppfolder)\n",
    "from LNECSPA import LTFdb\n",
    "\n",
    "\n",
    "file_path = Path(r'C:\\Users\\afons\\OneDrive - Universidade de Lisboa\\Controlo de Plataforma Sismica\\uniaxial_table_model\\Adapting_Driver_Signal\\pink_noise\\pink_noise_40Hz_T3mm_0.drv')\n",
    "ltf = LTFdb()\n",
    "ltf.read(file_path)"
   ]
  },
  {
   "cell_type": "code",
   "execution_count": 7,
   "id": "b79ff145",
   "metadata": {},
   "outputs": [],
   "source": [
    "drvT = ltf._data[0]"
   ]
  },
  {
   "cell_type": "code",
   "execution_count": null,
   "id": "32ae91ac",
   "metadata": {},
   "outputs": [],
   "source": [
    "ltf.update( data=[drvT , drvT  , drvT ])"
   ]
  },
  {
   "cell_type": "code",
   "execution_count": 9,
   "id": "577a748f",
   "metadata": {},
   "outputs": [],
   "source": [
    "ltf.write(file_path)"
   ]
  }
 ],
 "metadata": {
  "kernelspec": {
   "display_name": "base",
   "language": "python",
   "name": "python3"
  },
  "language_info": {
   "codemirror_mode": {
    "name": "ipython",
    "version": 3
   },
   "file_extension": ".py",
   "mimetype": "text/x-python",
   "name": "python",
   "nbconvert_exporter": "python",
   "pygments_lexer": "ipython3",
   "version": "3.11.5"
  }
 },
 "nbformat": 4,
 "nbformat_minor": 5
}
