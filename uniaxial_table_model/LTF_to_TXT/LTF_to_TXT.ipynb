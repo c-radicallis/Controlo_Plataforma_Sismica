{
 "cells": [
  {
   "cell_type": "code",
   "execution_count": null,
   "metadata": {},
   "outputs": [],
   "source": [
    "import numpy as np\n",
    "from scipy.constants import g\n",
    "\n",
    "from LNECSPA import LTFdb\n",
    "\n",
    "def ltf_to_txt(file_path):\n",
    "    tgtA = LTFdb()\n",
    "    tgtA.read(file_path)\n",
    "\n",
    "    # 1. Identify channel indices\n",
    "    disp_inds = [i for i, unit in enumerate(tgtA.units) if unit.lower() in ('mm', 'm')]\n",
    "    acc_inds  = [i for i, typ  in enumerate(tgtA.types) if typ.lower() == 'acceleration']\n",
    "\n",
    "    # 2. Build time vector\n",
    "    dt     = float(tgtA.dt[0])\n",
    "    n_pts  = tgtA.data.shape[1]\n",
    "    time_s = np.arange(n_pts) * dt\n",
    "\n",
    "    # 3. Convert to SI\n",
    "    disp_si = tgtA.data[disp_inds].astype(float)\n",
    "    for idx, ch in enumerate(disp_inds):\n",
    "        if tgtA.units[ch].lower() == 'mm':\n",
    "            disp_si[idx] *= 1e-3\n",
    "\n",
    "    acc_si = tgtA.data[acc_inds].astype(float)\n",
    "    for idx, ch in enumerate(acc_inds):\n",
    "        if tgtA.units[ch].lower() == 'g':\n",
    "            acc_si[idx] *= g\n",
    "\n",
    "    # 4. Stack columns: time | displacements | accelerations\n",
    "    out_arr = np.vstack((time_s, disp_si, acc_si)).T\n",
    "\n",
    "    # 5. Remove columns that are entirely zero\n",
    "    mask = ~np.all(np.isclose(out_arr, 0.0), axis=0)\n",
    "    out_arr = out_arr[:, mask]\n",
    "\n",
    "    # 6. Prepare headers aligned with filtered columns\n",
    "    header_cols = ['time_s'] + \\\n",
    "        [f\"{tgtA.names[i]}_m\" for i in disp_inds] + \\\n",
    "        [f\"{tgtA.names[i]}_m_per_s2\" for i in acc_inds]\n",
    "    header_cols = [h for h, m in zip(header_cols, mask) if m]\n",
    "\n",
    "    # 7. Export to fixed-width .txt file\n",
    "    width = 15\n",
    "    fmt = ['%15.6e'] * len(header_cols)\n",
    "    header_line = ''.join(h.center(width) for h in header_cols)\n",
    "\n",
    "    txt_filename = 'tgtA_SI_time_disp_acc.txt'\n",
    "    with open(txt_filename, 'w') as f:\n",
    "        f.write(header_line + '\\n')\n",
    "        np.savetxt(f, out_arr, fmt=fmt)\n",
    "\n",
    "    print(f\"Exported {out_arr.shape[0]} samples and {out_arr.shape[1]} columns to '{txt_filename}'.\")\n"
   ]
  },
  {
   "cell_type": "code",
   "execution_count": 2,
   "metadata": {},
   "outputs": [
    {
     "name": "stdout",
     "output_type": "stream",
     "text": [
      "Exported 8982 samples and 3 columns to 'tgtA_SI_time_disp_acc.txt'.\n"
     ]
    }
   ],
   "source": [
    "file_path = r'C:\\Users\\afons\\OneDrive - Universidade de Lisboa\\Controlo de Plataforma Sismica\\LNEC_Adapta_Driver\\2024_ERIES_RE-Safe\\Targets\\LAquilaReducedScale.tgt'\n",
    "ltf_to_txt(file_path)"
   ]
  },
  {
   "cell_type": "code",
   "execution_count": 3,
   "metadata": {},
   "outputs": [
    {
     "name": "stdout",
     "output_type": "stream",
     "text": [
      "Exported 8982 samples and 2 columns to 'tgtA_SI_time_disp_acc.txt'.\n"
     ]
    }
   ],
   "source": [
    "file_path = r'C:\\Users\\afons\\OneDrive - Universidade de Lisboa\\Controlo de Plataforma Sismica\\LNEC_Adapta_Driver\\2024_ERIES_RE-Safe\\TestLAquila\\2024-09-09\\LAquilaReducedScale_0.DRV'\n",
    "ltf_to_txt(file_path)"
   ]
  }
 ],
 "metadata": {
  "kernelspec": {
   "display_name": "base",
   "language": "python",
   "name": "python3"
  },
  "language_info": {
   "codemirror_mode": {
    "name": "ipython",
    "version": 3
   },
   "file_extension": ".py",
   "mimetype": "text/x-python",
   "name": "python",
   "nbconvert_exporter": "python",
   "pygments_lexer": "ipython3",
   "version": "3.11.5"
  },
  "orig_nbformat": 4,
  "vscode": {
   "interpreter": {
    "hash": "f48b24ca315487c062b8b23042ff6a0ae2476b1452409cf5c7326ae21be24bfc"
   }
  }
 },
 "nbformat": 4,
 "nbformat_minor": 2
}
