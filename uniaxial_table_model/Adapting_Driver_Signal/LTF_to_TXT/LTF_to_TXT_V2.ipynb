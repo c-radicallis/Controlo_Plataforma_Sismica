{
 "cells": [
  {
   "cell_type": "code",
   "execution_count": null,
   "id": "a4ddc0d7",
   "metadata": {},
   "outputs": [],
   "source": [
    "from pathlib import Path\n",
    "import sys\n",
    "import numpy as np\n",
    "if (ppfolder := str(Path('..') / 'personal_python_packages')) not in sys.path:\n",
    "    sys.path.append(ppfolder)\n",
    "from LNECSPA import LTFdb\n",
    "from scipy.constants import g"
   ]
  },
  {
   "cell_type": "code",
   "execution_count": null,
   "id": "f79a52c8",
   "metadata": {},
   "outputs": [],
   "source": [
    "def ltf_to_txt(file_path):\n",
    "    file_path = Path(file_path)\n",
    "    tgtA = LTFdb()\n",
    "    tgtA.read(file_path)\n",
    "\n",
    "    # 1. Identify channel indices\n",
    "    acc_inds  = [i for i, typ  in enumerate(tgtA.types) if typ.lower() == 'acceleration']\n",
    "    disp_inds  = [i for i, typ  in enumerate(tgtA.types) if typ.lower() == 'displacement']\n",
    "\n",
    "    # 3. Convert to SI\n",
    "    # Displacement channels\n",
    "    disp_si = tgtA.data[disp_inds].astype(float)\n",
    "    for idx, ch in enumerate(disp_inds):\n",
    "        if tgtA.units[ch].lower() == 'mm':\n",
    "            disp_si[idx] *= 1e-3\n",
    "\n",
    "    # Acceleration channels\n",
    "    acc_si = tgtA.data[acc_inds].astype(float)\n",
    "    for idx, ch in enumerate(acc_inds):\n",
    "        if tgtA.units[ch].lower() == 'g':\n",
    "            acc_si[idx] *= g\n",
    "\n",
    "    filename = file_path.name\n",
    "    tgtA.write_txt(filename+str(\".txt\"))"
   ]
  },
  {
   "cell_type": "code",
   "execution_count": null,
   "id": "62fa79d4",
   "metadata": {},
   "outputs": [],
   "source": [
    "file_path = r'C:\\Users\\afons\\OneDrive - Universidade de Lisboa\\Controlo de Plataforma Sismica\\LNEC_Adapta_Driver\\LNEC_ERIES_RE-SAFE\\CTL\\TestLAquila\\LAquilaReducedScale.tgt'\n",
    "ltf_to_txt(file_path)\n",
    "\n",
    "file_path = r'C:\\Users\\afons\\OneDrive - Universidade de Lisboa\\Controlo de Plataforma Sismica\\LNEC_Adapta_Driver\\LNEC_ERIES_RE-SAFE\\CTL\\TestLAquila\\2024-09-11\\LAquilaReducedScale_34.DRV'\n",
    "ltf_to_txt(file_path)\n",
    "\n",
    "file_path = r'C:\\Users\\afons\\OneDrive - Universidade de Lisboa\\Controlo de Plataforma Sismica\\LNEC_Adapta_Driver\\LNEC_ERIES_RE-SAFE\\CTL\\TestLAquila\\2024-09-11\\LAquilaReducedScale_34.acq'\n",
    "ltf_to_txt(file_path)"
   ]
  }
 ],
 "metadata": {
  "language_info": {
   "name": "python"
  }
 },
 "nbformat": 4,
 "nbformat_minor": 5
}
