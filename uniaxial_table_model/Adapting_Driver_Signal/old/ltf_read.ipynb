{
 "cells": [
  {
   "cell_type": "code",
   "execution_count": 1,
   "id": "e6b766bf",
   "metadata": {},
   "outputs": [],
   "source": [
    "from pathlib import Path\n",
    "import sys\n",
    "\n",
    "if (ppfolder := str(Path('..') / 'personal_python_packages')) not in sys.path:\n",
    "    sys.path.append(ppfolder)\n",
    "\n",
    "from LNECSPA import LTFdb\n",
    "\n",
    "import numpy as np"
   ]
  },
  {
   "cell_type": "code",
   "execution_count": 2,
   "id": "ffb109a5",
   "metadata": {},
   "outputs": [],
   "source": [
    "tgtA = LTFdb()"
   ]
  },
  {
   "cell_type": "code",
   "execution_count": 3,
   "id": "86489d66",
   "metadata": {},
   "outputs": [
    {
     "data": {
      "text/plain": [
       "<LNECSPA.LTFdb at 0x1f52658eb10>"
      ]
     },
     "execution_count": 3,
     "metadata": {},
     "output_type": "execute_result"
    }
   ],
   "source": [
    "file_path = Path(r'C:\\Users\\afons\\OneDrive - Universidade de Lisboa\\Controlo de Plataforma Sismica\\minimesa_data\\1-8-2025\\Noise.ltf')\n",
    "tgtA.read(file_path)"
   ]
  },
  {
   "cell_type": "code",
   "execution_count": 4,
   "id": "dcdfbb6a",
   "metadata": {},
   "outputs": [
    {
     "name": "stdout",
     "output_type": "stream",
     "text": [
      "Filename: C:\\Users\\afons\\OneDrive - Universidade de Lisboa\\Controlo de Plataforma Sismica\\minimesa_data\\1-8-2025\\Noise.ltf\n",
      "AQTD: ['']\n",
      "Stage: ['']\n",
      "Obs: ['']\n",
      "Date: ['']\n",
      "Signals: 1\n"
     ]
    }
   ],
   "source": [
    "print(tgtA)"
   ]
  },
  {
   "cell_type": "code",
   "execution_count": 5,
   "id": "0d0d359d",
   "metadata": {},
   "outputs": [
    {
     "name": "stdout",
     "output_type": "stream",
     "text": [
      "AQTD: ['']\n",
      "Stage: ['']\n",
      "Obs: ['']\n",
      "Date: ['']\n",
      "t0: [(0, 0)]\n",
      "dt: [0.005]\n",
      "Cluster: [(0.32591248545885526, -0.7390111902433905, array([-2422, -2422, -2422, ..., -2422, -2422, -2422], dtype=int16))]\n",
      "Dataformat: [0]\n",
      "IDstring: ['0']\n",
      "Scalefactor: [1.]\n",
      "Offset: [0.]\n",
      "Names: ['Noise']\n",
      "Units: ['Undefined']\n",
      "Types: ['Amplitude']\n",
      "Info: ['']\n"
     ]
    }
   ],
   "source": [
    "\"\"\"  LTF database.\n",
    "\n",
    "LNEC Test File attributes\n",
    "-------------------------\n",
    "AQTD : str\n",
    "    LabVIEW string.\n",
    "stage : str\n",
    "    LabVIEW string.\n",
    "obs : str\n",
    "    LabVIEW string.\n",
    "date : str\n",
    "    LabVIEW string.\n",
    "t0 : ndarray\n",
    "    LabVIEW array of timestamp.\n",
    "dt : ndarray\n",
    "    LabVIEW array of float64.\n",
    "cluster : list of tuples [(scale, offset, digital),]\n",
    "    scale : float\n",
    "        LabVIEW float64.\n",
    "    offset : float\n",
    "        LabVIEW float64.\n",
    "    digital : ndarray\n",
    "        LabVIEW 1D array of int16.\n",
    "dataformat : ndarray\n",
    "    LabVIEW array of int32.\n",
    "IDstring : list of strings\n",
    "    LabVIEW array of string.\n",
    "scalefactor : ndarray\n",
    "    LabVIEW array of float64.\n",
    "offset : ndarray\n",
    "    LabVIEW array of float64.\n",
    "names : list of strings\n",
    "    LabVIEW array of string.\n",
    "units : list of strings\n",
    "    LabVIEW array of string.\n",
    "types : list of strings\n",
    "    LabVIEW array of string.\n",
    "info : list of strings\n",
    "    LabVIEW array of string.\n",
    "\n",
    "Data attributes\n",
    "---------------\n",
    "_filename : str\n",
    "    Name of file to read/write.\n",
    "_eof : bool\n",
    "    End-of-file indicator (True/False).\n",
    "_data : list of ndarray\n",
    "    Analog data as list of 1D `ndarray`.\n",
    "data : ndarray\n",
    "    Analog data as 2D `ndarray`. Deprecation warning: to be replaced by `_data`!\n",
    "\n",
    "Properties\n",
    "----------\n",
    "filename : LTF filename\n",
    "eof : LTF end-of-file has been reached?\n",
    "metadata : `LTFdb` metadata\n",
    "signals : `LTFdb` number of channels\n",
    "samples : `LTFdb` number of samples per channel\n",
    "\n",
    "Methods\n",
    "-------\n",
    "__init__ :\n",
    "__str__ :\n",
    "read : read LTF file\n",
    "write : write LTF file\n",
    "keys : channels keys\n",
    "values : channels values\n",
    "items : channels items\n",
    "copy : \n",
    "update : update `LTFdb` in memory\n",
    "append : append a new channel at the end of `LTFdb`\n",
    "index : index channel names\n",
    "extend : extend with data coming from a new LTF file or from another `LTFdb` instance\n",
    "__len__ :\n",
    "__getitem__ :\n",
    "__setitem__ :\n",
    "__deltitem__ :\n",
    "__missing__ :\n",
    "__iter__ :\n",
    "__contains__ :\n",
    "read_cluster : read LTF cluster\n",
    "write_cluster : write LTF cluster\n",
    "time : returns 1D time array\n",
    "print_metadata : print metadata\n",
    "print_data : print data\n",
    "write_txt : write text file\n",
    "waveforms : return LabVIEW waveforms (t0, dt, array)\n",
    "dac : digital-to-analog conversion\n",
    "adc : analog-to-digital conversion\n",
    " \"\"\"\n",
    "tgtA.print_metadata()"
   ]
  },
  {
   "cell_type": "code",
   "execution_count": 6,
   "id": "f5eef8f7",
   "metadata": {},
   "outputs": [
    {
     "name": "stdout",
     "output_type": "stream",
     "text": [
      "Data: [array([-4.05930337e-05, -4.05930337e-05, -4.05930337e-05, ...,\n",
      "       -4.05930337e-05, -4.05930337e-05, -4.05930337e-05])]\n"
     ]
    }
   ],
   "source": [
    "tgtA.print_data()"
   ]
  },
  {
   "cell_type": "code",
   "execution_count": 7,
   "id": "67545bde",
   "metadata": {},
   "outputs": [
    {
     "name": "stdout",
     "output_type": "stream",
     "text": [
      "Couldn't find program: 'skip'\n"
     ]
    }
   ],
   "source": [
    "%%script skip\n",
    "number_columns = 3\n",
    "tgtA.update(t0=np.repeat(tgtA.t0, number_columns),\n",
    "            dt=np.repeat(tgtA.dt, number_columns),\n",
    "            dataformat=np.repeat(tgtA.dataformat, number_columns),\n",
    "            IDstring=tgtA.IDstring * number_columns,\n",
    "            scalefactor=np.repeat(tgtA.scalefactor, number_columns),\n",
    "            offset=np.repeat(tgtA.offset, number_columns),\n",
    "            data=[tgtA._data, 0*tgtA._data, 0*tgtA._data],\n",
    "            names=['DispT', 'DispL', 'DispV'],\n",
    "            units=['mm', 'mm', 'mm'],\n",
    "            types=['Displacement', 'Displacement', 'Displacement'],\n",
    "            info=tgtA.info * 3)\n"
   ]
  },
  {
   "cell_type": "code",
   "execution_count": 8,
   "id": "c4236cd4",
   "metadata": {},
   "outputs": [
    {
     "name": "stdout",
     "output_type": "stream",
     "text": [
      "Couldn't find program: 'skip'\n"
     ]
    }
   ],
   "source": [
    "%%script skip\n",
    "\"\"\"_data : list of ndarray\n",
    "    Analog data as list of 1D `ndarray`.\"\"\"\n",
    "data_ = tgtA._data\n",
    "print(np.ndim(data_))\n",
    "print(np.shape(data_))\n",
    "data_"
   ]
  },
  {
   "cell_type": "code",
   "execution_count": 9,
   "id": "01ef9d5d",
   "metadata": {},
   "outputs": [
    {
     "name": "stdout",
     "output_type": "stream",
     "text": [
      "Couldn't find program: 'skip'\n"
     ]
    }
   ],
   "source": [
    "%%script skip\n",
    "for i in range(3):\n",
    "    print(\"np.shape(data_[\"+str(i)+\"]) = \"+str(np.shape(data_[i])))"
   ]
  },
  {
   "cell_type": "code",
   "execution_count": 10,
   "id": "b5b044ca",
   "metadata": {},
   "outputs": [],
   "source": [
    "filename = file_path.name\n",
    "tgtA.write_txt(filename+str(\".txt\"))"
   ]
  }
 ],
 "metadata": {
  "kernelspec": {
   "display_name": "base",
   "language": "python",
   "name": "python3"
  },
  "language_info": {
   "codemirror_mode": {
    "name": "ipython",
    "version": 3
   },
   "file_extension": ".py",
   "mimetype": "text/x-python",
   "name": "python",
   "nbconvert_exporter": "python",
   "pygments_lexer": "ipython3",
   "version": "3.11.5"
  }
 },
 "nbformat": 4,
 "nbformat_minor": 5
}
